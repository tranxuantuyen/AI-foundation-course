{
  "nbformat": 4,
  "nbformat_minor": 0,
  "metadata": {
    "kernelspec": {
      "display_name": "Python 3",
      "language": "python",
      "name": "python3"
    },
    "language_info": {
      "codemirror_mode": {
        "name": "ipython",
        "version": 3
      },
      "file_extension": ".py",
      "mimetype": "text/x-python",
      "name": "python",
      "nbconvert_exporter": "python",
      "pygments_lexer": "ipython3",
      "version": "3.6.7"
    },
    "colab": {
      "name": "3. IMDB_sentiment_analysis_Xuân Tuyến.ipynb",
      "provenance": []
    },
    "accelerator": "GPU"
  },
  "cells": [
    {
      "cell_type": "markdown",
      "metadata": {
        "id": "0a5sDOyPA9AW"
      },
      "source": [
        "**Nội dung bài thực hành**\n",
        "\n",
        "Người học tiếp cận và giải quyết bài toán phân tích cảm xúc sử dụng 2 mô hình là RNN và GRU. Sau khi thực hành, người học có khả năng:\n",
        "1. Sử dụng được Keras để cài đặt các mô hình mạng truy hồi\n",
        "  \n",
        "\n",
        "*   Thao tác với dữ liệu\n",
        "*   Chuyển từ văn bản sang không gian vector qua mạng truy hồi\n",
        "\n",
        "\n",
        "2. Áp dụng được RNN/ GRU cho bài toán phân tích cảm xúc\n",
        "\n",
        "\n",
        "*   Huấn luyện mô hình\n",
        "*   Đánh gía mô hình\n",
        "\n",
        "\n",
        "3. Cải tiến được mô hình phân tích cảm xúc\n",
        "3. Thực hành được với bài toán thực tế"
      ]
    },
    {
      "cell_type": "markdown",
      "metadata": {
        "id": "xkBsHgWHA9AW"
      },
      "source": [
        "**Thao tác với dữ liệu**\n",
        "\n",
        "\n",
        "\n",
        "*   Bài thực hành sử dụng bộ dữ liệu IMDB review\n",
        "*   Dữ liệu gồm 2 phần: tập huấn luyện và tập kiểm thử (train data và test data). Mỗi phần gồm có 25000 câu, đuợc phân vào 2 lớp cảm xúc tích cực (positive) và tiêu cực (negative)\n",
        "*   Yêu cầu: xây dựng mô hình phân tích cảm xúc các đánh giá của nguời dùng dựa trên 2 mô hình RNN và GRU\n",
        "\n"
      ]
    },
    {
      "cell_type": "markdown",
      "metadata": {
        "id": "nFXpXqZOA9AW"
      },
      "source": [
        "## Chuẩn bị dữ liệu\n",
        "### Download and unzip data "
      ]
    },
    {
      "cell_type": "code",
      "metadata": {
        "colab": {
          "base_uri": "https://localhost:8080/"
        },
        "id": "8yaez9NsA9AW",
        "outputId": "7a6008a4-cbc4-42d4-d0d2-bfa86cd12c5b"
      },
      "source": [
        "!wget http://ai.stanford.edu/~amaas/data/sentiment/aclImdb_v1.tar.gz"
      ],
      "execution_count": null,
      "outputs": [
        {
          "output_type": "stream",
          "text": [
            "--2020-12-04 05:48:49--  http://ai.stanford.edu/~amaas/data/sentiment/aclImdb_v1.tar.gz\n",
            "Resolving ai.stanford.edu (ai.stanford.edu)... 171.64.68.10\n",
            "Connecting to ai.stanford.edu (ai.stanford.edu)|171.64.68.10|:80... connected.\n",
            "HTTP request sent, awaiting response... 200 OK\n",
            "Length: 84125825 (80M) [application/x-gzip]\n",
            "Saving to: ‘aclImdb_v1.tar.gz’\n",
            "\n",
            "aclImdb_v1.tar.gz   100%[===================>]  80.23M  23.8MB/s    in 3.6s    \n",
            "\n",
            "2020-12-04 05:48:53 (22.4 MB/s) - ‘aclImdb_v1.tar.gz’ saved [84125825/84125825]\n",
            "\n"
          ],
          "name": "stdout"
        }
      ]
    },
    {
      "cell_type": "code",
      "metadata": {
        "id": "S8Z0jMTkA9AW"
      },
      "source": [
        "# unzip downloaded file\n",
        "import tarfile\n",
        "tf = tarfile.open(\"aclImdb_v1.tar.gz\")\n",
        "tf.extractall()"
      ],
      "execution_count": null,
      "outputs": []
    },
    {
      "cell_type": "code",
      "metadata": {
        "id": "Yk6AZBrGA9AX"
      },
      "source": [
        "# Merge file\n",
        "# test\n",
        "import pandas as pd\n",
        "import os\n",
        "labels={\"pos\":1, \"neg\":0}\n",
        "test_df = pd.DataFrame()\n",
        "train_df = pd.DataFrame()\n",
        "\n",
        "for l in (\"pos\", \"neg\"):\n",
        "    path = \"aclImdb/train/%s\" %(l)\n",
        "    for file in os.listdir(path):\n",
        "        with open(os.path.join(path, file)) as infile:\n",
        "            txt = infile.read()\n",
        "        train_df = train_df.append([[txt, labels[l]]], ignore_index=True)\n",
        "train_df.columns=[\"review\", \"sentiment\"]\n",
        "\n",
        "for l in (\"pos\", \"neg\"):\n",
        "    path = \"aclImdb/test/%s\" %(l)\n",
        "    for file in os.listdir(path):\n",
        "        with open(os.path.join(path, file)) as infile:\n",
        "            txt = infile.read()\n",
        "        test_df = test_df.append([[txt, labels[l]]], ignore_index=True)\n",
        "test_df.columns=[\"review\", \"sentiment\"]"
      ],
      "execution_count": null,
      "outputs": []
    },
    {
      "cell_type": "code",
      "metadata": {
        "id": "Y3F5hVZ1A9AX",
        "colab": {
          "base_uri": "https://localhost:8080/",
          "height": 202
        },
        "outputId": "e14d0a3d-d0a9-401b-a64b-ad78e64cf818"
      },
      "source": [
        "train_df.sample(frac=1).head()"
      ],
      "execution_count": null,
      "outputs": [
        {
          "output_type": "execute_result",
          "data": {
            "text/html": [
              "<div>\n",
              "<style scoped>\n",
              "    .dataframe tbody tr th:only-of-type {\n",
              "        vertical-align: middle;\n",
              "    }\n",
              "\n",
              "    .dataframe tbody tr th {\n",
              "        vertical-align: top;\n",
              "    }\n",
              "\n",
              "    .dataframe thead th {\n",
              "        text-align: right;\n",
              "    }\n",
              "</style>\n",
              "<table border=\"1\" class=\"dataframe\">\n",
              "  <thead>\n",
              "    <tr style=\"text-align: right;\">\n",
              "      <th></th>\n",
              "      <th>review</th>\n",
              "      <th>sentiment</th>\n",
              "    </tr>\n",
              "  </thead>\n",
              "  <tbody>\n",
              "    <tr>\n",
              "      <th>7865</th>\n",
              "      <td>The film maybe goes a little far, but if you l...</td>\n",
              "      <td>1</td>\n",
              "    </tr>\n",
              "    <tr>\n",
              "      <th>14020</th>\n",
              "      <td>Gillian Anderson is an arrogant, driven, caree...</td>\n",
              "      <td>0</td>\n",
              "    </tr>\n",
              "    <tr>\n",
              "      <th>5064</th>\n",
              "      <td>&lt;br /&gt;&lt;br /&gt;Presenting Lily Mars is one of a g...</td>\n",
              "      <td>1</td>\n",
              "    </tr>\n",
              "    <tr>\n",
              "      <th>13456</th>\n",
              "      <td>Awful movie. It's a shame that a few of Flande...</td>\n",
              "      <td>0</td>\n",
              "    </tr>\n",
              "    <tr>\n",
              "      <th>2873</th>\n",
              "      <td>I don't remember when I first heard about this...</td>\n",
              "      <td>1</td>\n",
              "    </tr>\n",
              "  </tbody>\n",
              "</table>\n",
              "</div>"
            ],
            "text/plain": [
              "                                                  review  sentiment\n",
              "7865   The film maybe goes a little far, but if you l...          1\n",
              "14020  Gillian Anderson is an arrogant, driven, caree...          0\n",
              "5064   <br /><br />Presenting Lily Mars is one of a g...          1\n",
              "13456  Awful movie. It's a shame that a few of Flande...          0\n",
              "2873   I don't remember when I first heard about this...          1"
            ]
          },
          "metadata": {
            "tags": []
          },
          "execution_count": 4
        }
      ]
    },
    {
      "cell_type": "code",
      "metadata": {
        "id": "2VhqZ1pyA9AX",
        "colab": {
          "base_uri": "https://localhost:8080/",
          "height": 202
        },
        "outputId": "e9b12d22-dc6b-4952-9d90-2860edf57952"
      },
      "source": [
        "test_df.head()"
      ],
      "execution_count": null,
      "outputs": [
        {
          "output_type": "execute_result",
          "data": {
            "text/html": [
              "<div>\n",
              "<style scoped>\n",
              "    .dataframe tbody tr th:only-of-type {\n",
              "        vertical-align: middle;\n",
              "    }\n",
              "\n",
              "    .dataframe tbody tr th {\n",
              "        vertical-align: top;\n",
              "    }\n",
              "\n",
              "    .dataframe thead th {\n",
              "        text-align: right;\n",
              "    }\n",
              "</style>\n",
              "<table border=\"1\" class=\"dataframe\">\n",
              "  <thead>\n",
              "    <tr style=\"text-align: right;\">\n",
              "      <th></th>\n",
              "      <th>review</th>\n",
              "      <th>sentiment</th>\n",
              "    </tr>\n",
              "  </thead>\n",
              "  <tbody>\n",
              "    <tr>\n",
              "      <th>0</th>\n",
              "      <td>This Metro film is episodic, but nearly a cons...</td>\n",
              "      <td>1</td>\n",
              "    </tr>\n",
              "    <tr>\n",
              "      <th>1</th>\n",
              "      <td>If the caper genre owes a lot to Walter Huston...</td>\n",
              "      <td>1</td>\n",
              "    </tr>\n",
              "    <tr>\n",
              "      <th>2</th>\n",
              "      <td>I chose \"The English Patient\" for a history ex...</td>\n",
              "      <td>1</td>\n",
              "    </tr>\n",
              "    <tr>\n",
              "      <th>3</th>\n",
              "      <td>Thirty years prior to THE DEER HUNTER came thi...</td>\n",
              "      <td>1</td>\n",
              "    </tr>\n",
              "    <tr>\n",
              "      <th>4</th>\n",
              "      <td>I can not say this movie was a hilarious, but ...</td>\n",
              "      <td>1</td>\n",
              "    </tr>\n",
              "  </tbody>\n",
              "</table>\n",
              "</div>"
            ],
            "text/plain": [
              "                                              review  sentiment\n",
              "0  This Metro film is episodic, but nearly a cons...          1\n",
              "1  If the caper genre owes a lot to Walter Huston...          1\n",
              "2  I chose \"The English Patient\" for a history ex...          1\n",
              "3  Thirty years prior to THE DEER HUNTER came thi...          1\n",
              "4  I can not say this movie was a hilarious, but ...          1"
            ]
          },
          "metadata": {
            "tags": []
          },
          "execution_count": 5
        }
      ]
    },
    {
      "cell_type": "markdown",
      "metadata": {
        "id": "UUi4XKWIA9AX"
      },
      "source": [
        "### Làm sạch dữ liệu\n",
        "\n",
        "Vì dữ liệu đuợc crawl trực tiếp từ trang web nên việc xoá các tag html hay các cảm xúc emotition là cần thiết"
      ]
    },
    {
      "cell_type": "code",
      "metadata": {
        "id": "GuVx3DWbA9AX"
      },
      "source": [
        "import re\n",
        "def preprocessor(text):\n",
        "    text = re.sub(r\"<[^>]>\", '', text)\n",
        "    emoticons = re.findall(\"(?:|;|=)(?:-)?(?:\\)\\(|D|P)\", text)\n",
        "    text = re.sub(\"[\\W]+\", \" \", text.lower()) + \\\n",
        "            \" \".join(emoticons).replace('-', '')\n",
        "    return text.lower()\n",
        "train_df[\"review\"] = train_df[\"review\"].apply(preprocessor)\n",
        "test_df[\"review\"] = test_df[\"review\"].apply(preprocessor)"
      ],
      "execution_count": null,
      "outputs": []
    },
    {
      "cell_type": "markdown",
      "metadata": {
        "id": "5tcfhP-RA9AX"
      },
      "source": [
        "### Biễu diễn dữ liệu"
      ]
    },
    {
      "cell_type": "code",
      "metadata": {
        "id": "lglXUbxMA9AX",
        "colab": {
          "base_uri": "https://localhost:8080/",
          "height": 548
        },
        "outputId": "6b72f08a-3f29-4eca-9553-4eb651a1cf11"
      },
      "source": [
        "from nltk.tokenize import word_tokenize\n",
        "import matplotlib.pyplot as plt\n",
        "%matplotlib inline\n",
        "import nltk\n",
        "nltk.download('punkt')\n",
        "plt.figure(figsize=(10,8))\n",
        "plt.subplot(2,1,1)\n",
        "plt.hist([len(word_tokenize(sent)) for sent in train_df[\"review\"]], bins=64)\n",
        "plt.xlabel(\"length of sentence\")\n",
        "plt.ylabel(\"Number of Sentences\")\n",
        "plt.title(\"Length of sentence in train data\")\n",
        "plt.grid()\n",
        "plt.subplot(2,1,2)\n",
        "plt.hist([len(word_tokenize(sent)) for sent in test_df[\"review\"]], bins=64)\n",
        "plt.xlabel(\"length of sentence\")\n",
        "plt.ylabel(\"Number of Sentences\")\n",
        "plt.title(\"Length of sentence in test data\")\n",
        "plt.grid()"
      ],
      "execution_count": null,
      "outputs": [
        {
          "output_type": "stream",
          "text": [
            "[nltk_data] Downloading package punkt to /root/nltk_data...\n",
            "[nltk_data]   Unzipping tokenizers/punkt.zip.\n"
          ],
          "name": "stdout"
        },
        {
          "output_type": "display_data",
          "data": {
            "image/png": "[encoded data removed]",
            "text/plain": [
              "<Figure size 720x576 with 2 Axes>"
            ]
          },
          "metadata": {
            "tags": [],
            "needs_background": "light"
          }
        }
      ]
    },
    {
      "cell_type": "markdown",
      "metadata": {
        "id": "cmDtMZ5gA9AX"
      },
      "source": [
        "### Config\n",
        "Chuẩn bị các tham số cho mô hình"
      ]
    },
    {
      "cell_type": "code",
      "metadata": {
        "id": "GhBxpTp7A9AX"
      },
      "source": [
        "from keras.preprocessing.text import Tokenizer\n",
        "from keras.preprocessing.sequence import pad_sequences\n",
        "from keras.layers.recurrent import GRU, SimpleRNN\n",
        "# from keras.layers import CuDNNGRU # comment dong nay neu may ban khong ho tro CuDNN\n",
        "from keras.layers.embeddings import Embedding\n",
        "from keras.models import Model\n",
        "from keras.layers import Input, TimeDistributed, BatchNormalization\n",
        "from keras.layers.core import Activation, Dense, Dropout\n",
        "from keras.layers.wrappers import Bidirectional\n",
        "\n",
        "from keras import backend as K\n",
        "\n",
        "\n",
        "max_len = 500\n",
        "num_words = 5000\n",
        "embedding_dim = 300\n",
        "dropout = 0.2\n",
        "hidden_dim = 750\n",
        "l2_reg = 1e-4\n",
        "batch_size = 64\n",
        "epochs = 10\n",
        "learning_rate = 1e-3\n",
        "rnnact = 'tanh'\n",
        "rnninit = 'glorot_uniform'\n",
        "bidi = True\n",
        "bidi_mode = 'concat' # one of {'sum', 'mul', 'concat', 'ave'}\n",
        "finalact = 'sigmoid'\n",
        "rnn = SimpleRNN\n",
        "gru = GRU # chuyen thanh GRU neu may ban khong ho tro CuDNN\n",
        "opt = 'adadelta'\n",
        "\n"
      ],
      "execution_count": null,
      "outputs": []
    },
    {
      "cell_type": "markdown",
      "metadata": {
        "id": "jrlU3-94A9AX"
      },
      "source": [
        "### Sentence vectorize"
      ]
    },
    {
      "cell_type": "code",
      "metadata": {
        "id": "dEQmJxtMA9AX"
      },
      "source": [
        "tokenizer = Tokenizer(num_words=num_words)\n",
        "tokenizer.fit_on_texts(train_df[\"review\"])"
      ],
      "execution_count": null,
      "outputs": []
    },
    {
      "cell_type": "code",
      "metadata": {
        "id": "17FJnDq-A9AY"
      },
      "source": [
        "X_train = tokenizer.texts_to_sequences(train_df[\"review\"])\n",
        "X_test = tokenizer.texts_to_sequences(test_df[\"review\"])\n",
        "X_train = pad_sequences(X_train, maxlen=max_len, padding='post')\n",
        "X_test = pad_sequences(X_test, maxlen=max_len, padding='post')"
      ],
      "execution_count": null,
      "outputs": []
    },
    {
      "cell_type": "markdown",
      "metadata": {
        "id": "bgvvIKfpA9AY"
      },
      "source": [
        "## Sentiment Analysis using Keras\n",
        "### Basic RNN cell"
      ]
    },
    {
      "cell_type": "code",
      "metadata": {
        "id": "ZBIhtAR3A9AY"
      },
      "source": [
        "def sa_by_basicrnn():\n",
        "    # input layer\n",
        "    input_s = Input(name='input_si', shape=(max_len,), dtype='int32')\n",
        "    # create random word embedding\n",
        "    shared_embedding = Embedding(name='emb', input_dim=num_words, input_length=max_len,\n",
        "                                output_dim=embedding_dim, mask_zero=False, trainable=True)\n",
        "    emb_s = shared_embedding(input_s)\n",
        "    emb_s = Dropout(dropout, noise_shape=(None, max_len, embedding_dim))(emb_s)\n",
        "    # rnn layer\n",
        "    if bidi:\n",
        "        shared_rnn = Bidirectional(\n",
        "            rnn(hidden_dim, kernel_initializer=rnninit, input_shape=(None, max_len, embedding_dim), \n",
        "                                   return_sequences=False, name='rnn'),\n",
        "            merge_mode=bidi_mode)\n",
        "        rnn_dim = hidden_dim * 2\n",
        "    else:\n",
        "        shared_rnn = rnn(hidden_dim, kernel_initializer=rnninit, input_shape=(None, max_len, embedding_dim), \n",
        "                                   return_sequences=False, name='rnn')\n",
        "        rnn_dim = hidden_dim\n",
        "        \n",
        "    rnn_s = shared_rnn(emb_s)\n",
        "    rnn_s = Dropout(dropout, noise_shape=(None, rnn_dim ))(rnn_s)\n",
        "    # final projection layer\n",
        "    final_s = Dense(1, activation=finalact)(rnn_s)\n",
        "    rnn_model = Model(inputs=input_s, outputs=final_s)\n",
        "    rnn_model.compile(loss='binary_crossentropy', optimizer=opt, metrics=['accuracy'])\n",
        "    return rnn_model\n",
        "    \n",
        "    "
      ],
      "execution_count": null,
      "outputs": []
    },
    {
      "cell_type": "code",
      "metadata": {
        "id": "1joqiXT1A9AY"
      },
      "source": [
        "def sa_by_GRU():\n",
        "    # input layer\n",
        "    input_s = Input(name='input_si', shape=(max_len,), dtype='int32')\n",
        "    # create random word embedding\n",
        "    shared_embedding = Embedding(name='emb', input_dim=num_words, input_length=max_len,\n",
        "                                output_dim=embedding_dim, mask_zero=False, trainable=True)\n",
        "    emb_s = shared_embedding(input_s)\n",
        "    emb_s = Dropout(dropout, noise_shape=(None, max_len, embedding_dim))(emb_s)\n",
        "    # rnn layer\n",
        "    if bidi:\n",
        "        shared_gru = Bidirectional(\n",
        "            gru(hidden_dim, kernel_initializer=rnninit, input_shape=(None, max_len, embedding_dim), \n",
        "                                   return_sequences=False, name='rnn'),\n",
        "            merge_mode=bidi_mode)\n",
        "        gru_dim = hidden_dim * 2\n",
        "    else:\n",
        "        shared_gru = gru(hidden_dim, kernel_initializer=rnninit, input_shape=(None, max_len, embedding_dim), \n",
        "                                   return_sequences=False, name='rnn')\n",
        "        gru_dim = hidden_dim\n",
        "        \n",
        "    gru_s = shared_gru(emb_s)\n",
        "    gru_s = Dropout(dropout, noise_shape=(None,gru_dim ))(gru_s)\n",
        "    # final projection layer\n",
        "    final_s = Dense(1, activation=finalact)(gru_s)\n",
        "    rnn_model = Model(inputs=input_s, outputs=final_s)\n",
        "    rnn_model.compile(loss='binary_crossentropy', optimizer=opt, metrics=['accuracy'])\n",
        "    return rnn_model\n",
        "    \n",
        "    "
      ],
      "execution_count": null,
      "outputs": []
    },
    {
      "cell_type": "code",
      "metadata": {
        "id": "sszyG3JdA9AY",
        "colab": {
          "base_uri": "https://localhost:8080/"
        },
        "outputId": "b65f4baa-24eb-4e5f-952e-a3f6ec32114d"
      },
      "source": [
        "model = sa_by_GRU() # co the chuyen thanh sa_by_basicrnn\n",
        "print(model.summary())\n",
        "model.fit(X_train, train_df[\"sentiment\"], validation_split=0.2, batch_size=batch_size, epochs=epochs)"
      ],
      "execution_count": null,
      "outputs": [
        {
          "output_type": "stream",
          "text": [
            "Model: \"functional_1\"\n",
            "_________________________________________________________________\n",
            "Layer (type)                 Output Shape              Param #   \n",
            "=================================================================\n",
            "input_si (InputLayer)        [(None, 500)]             0         \n",
            "_________________________________________________________________\n",
            "emb (Embedding)              (None, 500, 300)          1500000   \n",
            "_________________________________________________________________\n",
            "dropout (Dropout)            (None, 500, 300)          0         \n",
            "_________________________________________________________________\n",
            "bidirectional (Bidirectional (None, 1500)              4734000   \n",
            "_________________________________________________________________\n",
            "dropout_1 (Dropout)          (None, 1500)              0         \n",
            "_________________________________________________________________\n",
            "dense (Dense)                (None, 1)                 1501      \n",
            "=================================================================\n",
            "Total params: 6,235,501\n",
            "Trainable params: 6,235,501\n",
            "Non-trainable params: 0\n",
            "_________________________________________________________________\n",
            "None\n",
            "Epoch 1/10\n",
            "313/313 [==============================] - 128s 411ms/step - loss: 0.6936 - accuracy: 0.4805 - val_loss: 0.7016 - val_accuracy: 0.0266\n",
            "Epoch 2/10\n",
            "313/313 [==============================] - 132s 423ms/step - loss: 0.6888 - accuracy: 0.6200 - val_loss: 0.7218 - val_accuracy: 0.0000e+00\n",
            "Epoch 3/10\n",
            "313/313 [==============================] - 133s 424ms/step - loss: 0.6846 - accuracy: 0.6250 - val_loss: 0.7417 - val_accuracy: 0.0000e+00\n",
            "Epoch 4/10\n",
            "313/313 [==============================] - 132s 422ms/step - loss: 0.6808 - accuracy: 0.6250 - val_loss: 0.7610 - val_accuracy: 0.0000e+00\n",
            "Epoch 5/10\n",
            "313/313 [==============================] - 132s 423ms/step - loss: 0.6775 - accuracy: 0.6250 - val_loss: 0.7796 - val_accuracy: 0.0000e+00\n",
            "Epoch 6/10\n",
            "313/313 [==============================] - 132s 423ms/step - loss: 0.6747 - accuracy: 0.6250 - val_loss: 0.7973 - val_accuracy: 0.0000e+00\n",
            "Epoch 7/10\n",
            "313/313 [==============================] - 133s 423ms/step - loss: 0.6724 - accuracy: 0.6250 - val_loss: 0.8138 - val_accuracy: 0.0000e+00\n",
            "Epoch 8/10\n",
            "313/313 [==============================] - 132s 422ms/step - loss: 0.6705 - accuracy: 0.6250 - val_loss: 0.8290 - val_accuracy: 0.0000e+00\n",
            "Epoch 9/10\n",
            "313/313 [==============================] - 132s 423ms/step - loss: 0.6689 - accuracy: 0.6250 - val_loss: 0.8430 - val_accuracy: 0.0000e+00\n",
            "Epoch 10/10\n",
            "313/313 [==============================] - 132s 423ms/step - loss: 0.6676 - accuracy: 0.6250 - val_loss: 0.8558 - val_accuracy: 0.0000e+00\n"
          ],
          "name": "stdout"
        },
        {
          "output_type": "execute_result",
          "data": {
            "text/plain": [
              "<tensorflow.python.keras.callbacks.History at 0x7f3681999f28>"
            ]
          },
          "metadata": {
            "tags": []
          },
          "execution_count": 17
        }
      ]
    },
    {
      "cell_type": "code",
      "metadata": {
        "id": "QU45QDhzA9AY",
        "colab": {
          "base_uri": "https://localhost:8080/"
        },
        "outputId": "cb0e6407-a1ca-4961-f733-1ccb3b5cb5db"
      },
      "source": [
        "model.evaluate(X_test, test_df[\"sentiment\"])"
      ],
      "execution_count": null,
      "outputs": [
        {
          "output_type": "stream",
          "text": [
            "782/782 [==============================] - 63s 81ms/step - loss: 0.7047 - accuracy: 0.5000\n"
          ],
          "name": "stdout"
        },
        {
          "output_type": "execute_result",
          "data": {
            "text/plain": [
              "[0.7046756744384766, 0.5]"
            ]
          },
          "metadata": {
            "tags": []
          },
          "execution_count": 18
        }
      ]
    },
    {
      "cell_type": "code",
      "metadata": {
        "id": "nj2uOJDoA9AY"
      },
      "source": [
        "K.clear_session()"
      ],
      "execution_count": null,
      "outputs": []
    },
    {
      "cell_type": "markdown",
      "metadata": {
        "id": "qt44iO8mA9AY"
      },
      "source": [
        "### Fine Tuning Model\n",
        "Su dung Glove word vector va tang so layer cua mo hinh"
      ]
    },
    {
      "cell_type": "code",
      "metadata": {
        "id": "87X51QcAA9AY"
      },
      "source": [
        "import numpy as np\n",
        "embeddings_index = dict()\n",
        "with open('glove.6B.100d.txt') as f:\n",
        "    for line in f:\n",
        "        values = line.split()\n",
        "        word = values[0]\n",
        "        coefs = np.asarray(values[1:], dtype='float32')\n",
        "        embeddings_index[word] = coefs"
      ],
      "execution_count": null,
      "outputs": []
    },
    {
      "cell_type": "code",
      "metadata": {
        "id": "UlUkjbDQA9AY",
        "outputId": "3e66439b-24ca-49b6-ed11-c3a23b876dbd"
      },
      "source": [
        "init_emb = np.random.rand(num_words+1, 100)\n",
        "counter = 0\n",
        "for word, i in tokenizer.word_index.items():\n",
        "    if i > 5000:\n",
        "        break\n",
        "    embedding_vector = embeddings_index.get(word)\n",
        "    if embedding_vector is not None:\n",
        "        counter += 1\n",
        "        init_emb[i] = embedding_vector\n",
        "print(\"Found %d word in Glove word vector\" %counter)"
      ],
      "execution_count": null,
      "outputs": [
        {
          "output_type": "stream",
          "text": [
            "Found 4999 word in Glove word vector\n"
          ],
          "name": "stdout"
        }
      ]
    },
    {
      "cell_type": "code",
      "metadata": {
        "id": "IsD9azOmA9AY"
      },
      "source": [
        "# new model\n",
        "from keras import optimizers\n",
        "def get_fine_tuning_GRU():\n",
        "    # input layer\n",
        "    input_s = Input(name='input_si', shape=(max_len,), dtype='int32')\n",
        "    # create random word embedding\n",
        "    shared_embedding = Embedding(name='emb', input_dim=num_words+1, input_length=max_len,\n",
        "                                output_dim=100, mask_zero=False, trainable=False, weights=[init_emb])\n",
        "    emb_s = shared_embedding(input_s)\n",
        "    emb_s = Dropout(dropout, noise_shape=(None, max_len, 100))(emb_s)\n",
        "    # rnn layer\n",
        "    shared_gru = Bidirectional(\n",
        "        gru(hidden_dim, kernel_initializer=rnninit,  \n",
        "            return_sequences=True, name='gru1'),\n",
        "        merge_mode=bidi_mode)          \n",
        "    gru_s = shared_gru(emb_s)\n",
        "    gru_s = Dropout(dropout, noise_shape=(None, max_len, hidden_dim * 2 ))(gru_s)\n",
        "    shared_gru = Bidirectional(\n",
        "        gru(hidden_dim, kernel_initializer=rnninit,\n",
        "            return_sequences=False, name='gru2'),\n",
        "        merge_mode=bidi_mode)          \n",
        "    gru_s = shared_gru(gru_s)    \n",
        "    gru_s = Dropout(dropout, noise_shape=(None, hidden_dim * 2))(gru_s)\n",
        "    # final projection layer\n",
        "    dense_s = Dense(hidden_dim *2, activation=\"relu\")(gru_s)\n",
        "    final_s = Dense(1, activation=finalact)(dense_s)\n",
        "    gru_model = Model(inputs=input_s, outputs=final_s)\n",
        "    optimizer = optimizers.Adam(lr=0.001, decay=0.001);\n",
        "    gru_model.compile(loss='binary_crossentropy', optimizer=optimizer, metrics=['accuracy'])\n",
        "    return gru_model"
      ],
      "execution_count": null,
      "outputs": []
    },
    {
      "cell_type": "code",
      "metadata": {
        "id": "fuSR_fbhA9AY",
        "outputId": "b53a020f-3a00-4247-a18b-b9dea402769d"
      },
      "source": [
        "model = get_fine_tuning_GRU() \n",
        "print(model.summary())\n",
        "model.fit(X_train, train_df[\"sentiment\"], validation_split=0.2, batch_size=batch_size, epochs=epochs)"
      ],
      "execution_count": null,
      "outputs": [
        {
          "output_type": "stream",
          "text": [
            "_________________________________________________________________\n",
            "Layer (type)                 Output Shape              Param #   \n",
            "=================================================================\n",
            "input_si (InputLayer)        (None, 500)               0         \n",
            "_________________________________________________________________\n",
            "emb (Embedding)              (None, 500, 100)          500100    \n",
            "_________________________________________________________________\n",
            "dropout_1 (Dropout)          (None, 500, 100)          0         \n",
            "_________________________________________________________________\n",
            "bidirectional_1 (Bidirection (None, 500, 1500)         3834000   \n",
            "_________________________________________________________________\n",
            "dropout_2 (Dropout)          (None, 500, 1500)         0         \n",
            "_________________________________________________________________\n",
            "bidirectional_2 (Bidirection (None, 1500)              10134000  \n",
            "_________________________________________________________________\n",
            "dropout_3 (Dropout)          (None, 1500)              0         \n",
            "_________________________________________________________________\n",
            "dense_1 (Dense)              (None, 1500)              2251500   \n",
            "_________________________________________________________________\n",
            "dense_2 (Dense)              (None, 1)                 1501      \n",
            "=================================================================\n",
            "Total params: 16,721,101\n",
            "Trainable params: 16,221,001\n",
            "Non-trainable params: 500,100\n",
            "_________________________________________________________________\n",
            "None\n",
            "Train on 20000 samples, validate on 5000 samples\n",
            "Epoch 1/10\n",
            "20000/20000 [==============================] - 246s 12ms/step - loss: 0.6788 - acc: 0.6126 - val_loss: 1.2135 - val_acc: 0.0000e+00\n",
            "Epoch 2/10\n",
            "20000/20000 [==============================] - 245s 12ms/step - loss: 0.6306 - acc: 0.6501 - val_loss: 0.6582 - val_acc: 0.6528\n",
            "Epoch 3/10\n",
            "20000/20000 [==============================] - 245s 12ms/step - loss: 0.4868 - acc: 0.7710 - val_loss: 0.3978 - val_acc: 0.8100\n",
            "Epoch 4/10\n",
            "20000/20000 [==============================] - 245s 12ms/step - loss: 0.3912 - acc: 0.8287 - val_loss: 0.8254 - val_acc: 0.6012\n",
            "Epoch 5/10\n",
            "20000/20000 [==============================] - 245s 12ms/step - loss: 0.3586 - acc: 0.8427 - val_loss: 0.3199 - val_acc: 0.8520\n",
            "Epoch 6/10\n",
            "20000/20000 [==============================] - 245s 12ms/step - loss: 0.3334 - acc: 0.8570 - val_loss: 0.3341 - val_acc: 0.8448\n",
            "Epoch 7/10\n",
            "20000/20000 [==============================] - 245s 12ms/step - loss: 0.3181 - acc: 0.8636 - val_loss: 0.3319 - val_acc: 0.8610\n",
            "Epoch 8/10\n",
            "20000/20000 [==============================] - 245s 12ms/step - loss: 0.3003 - acc: 0.8712 - val_loss: 0.4351 - val_acc: 0.8048\n",
            "Epoch 9/10\n",
            "20000/20000 [==============================] - 245s 12ms/step - loss: 0.2852 - acc: 0.8794 - val_loss: 0.4293 - val_acc: 0.8142\n",
            "Epoch 10/10\n",
            "20000/20000 [==============================] - 245s 12ms/step - loss: 0.2689 - acc: 0.8889 - val_loss: 0.3816 - val_acc: 0.8288\n"
          ],
          "name": "stdout"
        },
        {
          "output_type": "execute_result",
          "data": {
            "text/plain": [
              "<keras.callbacks.History at 0x7f5a002d7400>"
            ]
          },
          "metadata": {
            "tags": []
          },
          "execution_count": 65
        }
      ]
    },
    {
      "cell_type": "code",
      "metadata": {
        "id": "x3vHvV_tA9AY",
        "outputId": "02bd52d9-4061-409d-c858-dff46a5f748b"
      },
      "source": [
        "model.evaluate(X_test, test_df[\"sentiment\"])"
      ],
      "execution_count": null,
      "outputs": [
        {
          "output_type": "stream",
          "text": [
            "25000/25000 [==============================] - 127s 5ms/step\n"
          ],
          "name": "stdout"
        },
        {
          "output_type": "execute_result",
          "data": {
            "text/plain": [
              "[0.2891898863172531, 0.87652]"
            ]
          },
          "metadata": {
            "tags": []
          },
          "execution_count": 66
        }
      ]
    }
  ]
}