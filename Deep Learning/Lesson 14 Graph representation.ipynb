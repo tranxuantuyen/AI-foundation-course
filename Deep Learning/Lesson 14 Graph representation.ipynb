{
 "cells": [
  {
   "cell_type": "markdown",
   "metadata": {
    "id": "YYzQvz0BnZhH"
   },
   "source": [
    "# Học biểu diễn dữ liệu graph sử dụng GraphSage"
   ]
  },
  {
   "cell_type": "markdown",
   "metadata": {
    "id": "4DtjTaBLnZhJ"
   },
   "source": [
    "## Dataset"
   ]
  },
  {
   "cell_type": "markdown",
   "metadata": {
    "id": "zKgHlvI5nZhJ"
   },
   "source": [
    "### Protein-Protein interaction"
   ]
  },
  {
   "cell_type": "markdown",
   "metadata": {
    "id": "JKb0FHZUnZhK"
   },
   "source": [
    "![image.png](attachment:image.png)"
   ]
  },
  {
   "cell_type": "markdown",
   "metadata": {
    "id": "3XE33YFInZhL"
   },
   "source": [
    "Tương tác protein là hiện tượng vật lý mà hai hay nhiều protein bám vào nhau, là trung tâm của mọi quá trình sinh học diễn ra trong tế bào.\n",
    "Các proteins được biểu diễn bằng các nodes, liên kết bởi các edges vô hướng."
   ]
  },
  {
   "cell_type": "markdown",
   "metadata": {
    "id": "nlOrORZDnZhM"
   },
   "source": [
    "Tương tác protein-protein (PPI) là điều cần thiết cho hầu hết mọi quá trình trong tế bào, vì vậy hiểu PPI là rất quan trọng để hiểu sinh lý tế bào ở trạng thái bình thường và bệnh. Nó cũng rất cần thiết trong việc phát triển thuốc, vì thuốc có thể ảnh hưởng đến PPI."
   ]
  },
  {
   "cell_type": "markdown",
   "metadata": {
    "id": "1S3bZgZOnZhM"
   },
   "source": [
    "#### Định dạng dữ liệu"
   ]
  },
  {
   "cell_type": "markdown",
   "metadata": {
    "id": "NtbvoAsDnZhN"
   },
   "source": [
    "* toy-ppi-G.json -- A networkx-specified json file describing the input graph. Nodes have 'val' and 'test' attributes specifying if they are a part of the validation and test sets, respectively.\n",
    "* toy-ppi-id_map.json -- A json-stored dictionary mapping the graph node ids to consecutive integers.\n",
    "* toy-ppi-class_map.json -- A json-stored dictionary mapping the graph node ids to classes.\n",
    "* toy-ppi-feats.npy [optional] --- A numpy-stored array of node features; ordering given by id_map.json. Can be omitted and only identity features will be used.\n",
    "* toy-ppi-walks.txt [optional] --- A text file specifying random walk co-occurrences (one pair per line) (*only for unsupervised version of graphsage)"
   ]
  },
  {
   "cell_type": "markdown",
   "metadata": {
    "id": "E7_6JaZmnZhO"
   },
   "source": [
    "## Thử nghiệm trên dữ liệu PPI"
   ]
  },
  {
   "cell_type": "markdown",
   "metadata": {
    "id": "NVk-6H6-nZhO"
   },
   "source": [
    "### Phân loại Protein chỉ sử dụng Features"
   ]
  },
  {
   "cell_type": "code",
   "execution_count": 2,
   "metadata": {
    "colab": {
     "base_uri": "https://localhost:8080/"
    },
    "id": "5SYg8Sln4EGp",
    "outputId": "940676c1-f18d-4d4c-d5e4-1c8b6a14efee"
   },
   "outputs": [
    {
     "name": "stdout",
     "output_type": "stream",
     "text": [
      "\n",
      "UNRAR 5.50 freeware      Copyright (c) 1993-2017 Alexander Roshal\n",
      "\n",
      "\n",
      "Extracting from toy-ppi_data.rar\n",
      "\n",
      "Creating    /content/toy-ppi_data                                     OK\n",
      "Extracting  /content/toy-ppi_data/toy-ppi-class_map.json                 \b\b\b\b  5%\b\b\b\b\b  OK \n",
      "Extracting  /content/toy-ppi_data/toy-ppi-feats.npy                      \b\b\b\b  6%\b\b\b\b\b  OK \n",
      "Extracting  /content/toy-ppi_data/toy-ppi-G.json                         \b\b\b\b 26%\b\b\b\b\b  OK \n",
      "Extracting  /content/toy-ppi_data/toy-ppi-id_map.json                    \b\b\b\b 26%\b\b\b\b\b  OK \n",
      "Extracting  /content/toy-ppi_data/toy-ppi-walks.txt                      \b\b\b\b 93%\b\b\b\b 99%\b\b\b\b\b  OK \n",
      "All OK\n"
     ]
    }
   ],
   "source": [
    "!unrar x \"toy-ppi_data.rar\" \"/content/\""
   ]
  },
  {
   "cell_type": "code",
   "execution_count": 1,
   "metadata": {
    "id": "QWCiPjPFnZhP"
   },
   "outputs": [],
   "source": [
    "import numpy as np\n",
    "from networkx.readwrite import json_graph\n",
    "import json\n",
    "import os\n",
    "cwd = os.getcwd()\n",
    "\n",
    "dataset_dir = '/content/toy-ppi_data'"
   ]
  },
  {
   "cell_type": "markdown",
   "metadata": {
    "id": "YN6oi83lnZhT"
   },
   "source": [
    "Tải bộ dữ liệu *toy-ppi* từ thư mục *'example_data'* vào đối tượng Graph của networkx. Phân tách các nodes thành tập huấn luyện và tập kiểm thử."
   ]
  },
  {
   "cell_type": "code",
   "execution_count": 3,
   "metadata": {
    "colab": {
     "base_uri": "https://localhost:8080/"
    },
    "id": "HKpBrc9QnZhT",
    "outputId": "2a55cea2-9e3e-4870-abad-3808418a781a"
   },
   "outputs": [
    {
     "name": "stdout",
     "output_type": "stream",
     "text": [
      "Loading data...\n",
      "Loaded data\n"
     ]
    }
   ],
   "source": [
    "print(\"Loading data...\")\n",
    "G = json_graph.node_link_graph(json.load(open(dataset_dir + \"/toy-ppi-G.json\")))\n",
    "labels = json.load(open(dataset_dir + \"/toy-ppi-class_map.json\"))\n",
    "labels = {int(i):l for i, l in labels.items()}\n",
    "    \n",
    "train_ids = [n for n in G.nodes() if not G.nodes[n]['val'] and not G.nodes[n]['test']]\n",
    "test_ids = [n for n in G.nodes() if G.nodes[n]['test']]\n",
    "train_labels = np.array([labels[i] for i in train_ids])\n",
    "if train_labels.ndim == 1:\n",
    "    train_labels = np.expand_dims(train_labels, 1)\n",
    "test_labels = np.array([labels[i] for i in test_ids])\n",
    "print(\"Loaded data\")"
   ]
  },
  {
   "cell_type": "markdown",
   "metadata": {
    "id": "wJqPVINWnZhY"
   },
   "source": [
    "Hàm huấn luyện mô hình hồi quy trên dữ liệu"
   ]
  },
  {
   "cell_type": "code",
   "execution_count": 4,
   "metadata": {
    "id": "inWU_a6qnZhY"
   },
   "outputs": [],
   "source": [
    "def run_regression(train_embeds, train_labels, test_embeds, test_labels):\n",
    "    np.random.seed(1)\n",
    "    from sklearn.linear_model import SGDClassifier\n",
    "    from sklearn.dummy import DummyClassifier\n",
    "    from sklearn.metrics import f1_score\n",
    "    from sklearn.multioutput import MultiOutputClassifier\n",
    "    dummy = MultiOutputClassifier(DummyClassifier())\n",
    "    dummy.fit(train_embeds, train_labels)\n",
    "    log = MultiOutputClassifier(SGDClassifier(loss=\"log\", max_iter=5, tol=-np.infty), n_jobs=10)\n",
    "    log.fit(train_embeds, train_labels)\n",
    "\n",
    "    f1 = 0\n",
    "    for i in range(test_labels.shape[1]):\n",
    "        print(\"F1 score\", f1_score(test_labels[:,i], log.predict(test_embeds)[:,i], average=\"micro\"))\n",
    "    for i in range(test_labels.shape[1]):\n",
    "        print(\"Random baseline F1 score\", f1_score(test_labels[:,i], dummy.predict(test_embeds)[:,i], average=\"micro\"))"
   ]
  },
  {
   "cell_type": "markdown",
   "metadata": {
    "id": "KIBgW0xznZhb"
   },
   "source": [
    "Đọc và sử dụng trực tiếp features của proteins cho phân loại "
   ]
  },
  {
   "cell_type": "code",
   "execution_count": 6,
   "metadata": {
    "colab": {
     "base_uri": "https://localhost:8080/"
    },
    "id": "XFk2IVF0nZhc",
    "outputId": "2a5f8e1b-db6f-42e0-aae9-c0e04db57e77"
   },
   "outputs": [
    {
     "name": "stdout",
     "output_type": "stream",
     "text": [
      "Running regression..\n"
     ]
    },
    {
     "name": "stderr",
     "output_type": "stream",
     "text": [
      "/usr/local/lib/python3.6/dist-packages/sklearn/dummy.py:132: FutureWarning: The default value of strategy will change from stratified to prior in 0.24.\n",
      "  \"stratified to prior in 0.24.\", FutureWarning)\n"
     ]
    },
    {
     "name": "stdout",
     "output_type": "stream",
     "text": [
      "F1 score 0.5084007467330429\n",
      "F1 score 0.7165525824517733\n",
      "F1 score 0.718108276291226\n",
      "F1 score 0.6670815183571873\n",
      "F1 score 0.8254511512134411\n",
      "F1 score 0.7685127566894835\n",
      "F1 score 0.6922837585563161\n",
      "F1 score 0.6148102053515868\n",
      "F1 score 0.7825140012445551\n",
      "F1 score 0.6157436216552582\n",
      "F1 score 0.7781580584940884\n",
      "F1 score 0.6692594897324207\n",
      "F1 score 0.4598630989421282\n",
      "F1 score 0.7420659614187929\n",
      "F1 score 0.7654013690105788\n",
      "F1 score 0.5728064716863721\n",
      "F1 score 0.8459863098942129\n",
      "F1 score 0.7918481642812694\n",
      "F1 score 0.6698817672682016\n",
      "F1 score 0.5581829495955196\n",
      "F1 score 0.7778469197261979\n",
      "F1 score 0.4915992532669571\n",
      "F1 score 0.6966397013067829\n",
      "F1 score 0.47075295581829496\n",
      "F1 score 0.7756689483509647\n",
      "F1 score 0.5612943372744243\n",
      "F1 score 0.4710640945861854\n",
      "F1 score 0.6160547604231488\n",
      "F1 score 0.6210329807093964\n",
      "F1 score 0.7501555693839452\n",
      "F1 score 0.6042314872433105\n",
      "F1 score 0.7868699439950217\n",
      "F1 score 0.8397635345364033\n",
      "F1 score 0.7594897324206596\n",
      "F1 score 0.7691350342252644\n",
      "F1 score 0.6166770379589297\n",
      "F1 score 0.7734909769757311\n",
      "F1 score 0.7174859987554449\n",
      "F1 score 0.5942750466708152\n",
      "F1 score 0.6988176726820162\n",
      "F1 score 0.7996266334785315\n",
      "F1 score 0.7355320472930927\n",
      "F1 score 0.762289981331674\n",
      "F1 score 0.7678904791537026\n",
      "F1 score 0.8466085874299938\n",
      "F1 score 0.6583696328562539\n",
      "F1 score 0.5948973242065961\n",
      "F1 score 0.46017423771001864\n",
      "F1 score 0.7100186683260735\n",
      "F1 score 0.7364654635967642\n",
      "F1 score 0.6204107031736155\n",
      "F1 score 0.6515245799626633\n",
      "F1 score 0.4704418170504045\n",
      "F1 score 0.4433727442439328\n",
      "F1 score 0.7000622277535781\n",
      "F1 score 0.6925948973242066\n",
      "F1 score 0.7996266334785315\n",
      "F1 score 0.7803360298693217\n",
      "F1 score 0.7542003733665215\n",
      "F1 score 0.7156191661481021\n",
      "F1 score 0.46919726197884254\n",
      "F1 score 0.7865588052271313\n",
      "F1 score 0.7769135034225264\n",
      "F1 score 0.6860609831985065\n",
      "F1 score 0.7265090230242687\n",
      "F1 score 0.8403858120721841\n",
      "F1 score 0.5065339141257\n",
      "F1 score 0.626633478531425\n",
      "F1 score 0.4981331673926571\n",
      "F1 score 0.6925948973242066\n",
      "F1 score 0.7333540759178595\n",
      "F1 score 0.8083385189794648\n",
      "F1 score 0.7812694461729932\n",
      "F1 score 0.664903546981954\n",
      "F1 score 0.7862476664592407\n",
      "F1 score 0.7349097697573118\n",
      "F1 score 0.5933416303671437\n",
      "F1 score 0.8145612943372744\n",
      "F1 score 0.7149968886123211\n",
      "F1 score 0.7125077784691972\n",
      "F1 score 0.7171748599875545\n",
      "F1 score 0.49626633478531423\n",
      "F1 score 0.6555693839452396\n",
      "F1 score 0.7794026135656503\n",
      "F1 score 0.7545115121344119\n",
      "F1 score 0.5410703173615432\n",
      "F1 score 0.8861232109520847\n",
      "F1 score 0.6561916614810205\n",
      "F1 score 0.6521468574984443\n",
      "F1 score 0.768823895457374\n",
      "F1 score 0.79869321717486\n",
      "F1 score 0.7078406969508401\n",
      "F1 score 0.642190416925949\n",
      "F1 score 0.775357809583074\n",
      "F1 score 0.7619788425637835\n",
      "F1 score 0.6518357187305538\n",
      "F1 score 0.8049159925326695\n",
      "F1 score 0.5320472930927194\n",
      "F1 score 0.574673304293715\n",
      "F1 score 0.6549471064094586\n",
      "F1 score 0.5171126322339763\n",
      "F1 score 0.7227753578095829\n",
      "F1 score 0.7912258867454884\n",
      "F1 score 0.6316116988176727\n",
      "F1 score 0.7644679527069073\n",
      "F1 score 0.6673926571250778\n",
      "F1 score 0.6754822650902302\n",
      "F1 score 0.7548226509023025\n",
      "F1 score 0.5541381456129434\n",
      "F1 score 0.49066583696328564\n",
      "F1 score 0.6456129433727442\n",
      "F1 score 0.7510889856876167\n",
      "F1 score 0.6801493466085874\n",
      "F1 score 0.6661481020535158\n",
      "F1 score 0.7492221530802738\n",
      "F1 score 0.5644057249533292\n",
      "F1 score 0.8400746733042938\n",
      "F1 score 0.6901057871810827\n",
      "F1 score 0.7227753578095829\n",
      "F1 score 0.5258245177349098\n",
      "F1 score 0.7003733665214685\n",
      "Random baseline F1 score 0.5413814561294338\n",
      "Random baseline F1 score 0.641568139390168\n",
      "Random baseline F1 score 0.6835718730553827\n",
      "Random baseline F1 score 0.6372121966397013\n",
      "Random baseline F1 score 0.761667703795893\n",
      "Random baseline F1 score 0.6929060360920971\n",
      "Random baseline F1 score 0.6197884256378344\n",
      "Random baseline F1 score 0.5435594275046671\n",
      "Random baseline F1 score 0.738954573739888\n",
      "Random baseline F1 score 0.5488487865588052\n",
      "Random baseline F1 score 0.6695706285003111\n",
      "Random baseline F1 score 0.6565028002489111\n",
      "Random baseline F1 score 0.5706285003111388\n",
      "Random baseline F1 score 0.7034847542003734\n",
      "Random baseline F1 score 0.7069072806471687\n",
      "Random baseline F1 score 0.5311138767890479\n",
      "Random baseline F1 score 0.8086496577473553\n",
      "Random baseline F1 score 0.7542003733665215\n",
      "Random baseline F1 score 0.6222775357809583\n",
      "Random baseline F1 score 0.5003111387678905\n",
      "Random baseline F1 score 0.7028624766645925\n",
      "Random baseline F1 score 0.5102675793403858\n",
      "Random baseline F1 score 0.6586807716241444\n",
      "Random baseline F1 score 0.5606720597386434\n",
      "Random baseline F1 score 0.7190416925948973\n",
      "Random baseline F1 score 0.5258245177349098\n",
      "Random baseline F1 score 0.5482265090230243\n",
      "Random baseline F1 score 0.5647168637212197\n",
      "Random baseline F1 score 0.5737398879900436\n",
      "Random baseline F1 score 0.7193528313627878\n",
      "Random baseline F1 score 0.5510267579340385\n",
      "Random baseline F1 score 0.7582451773490977\n",
      "Random baseline F1 score 0.798070939639079\n",
      "Random baseline F1 score 0.7445550715619166\n",
      "Random baseline F1 score 0.6817050404480398\n",
      "Random baseline F1 score 0.5522713130056005\n",
      "Random baseline F1 score 0.6969508400746733\n",
      "Random baseline F1 score 0.6645924082140635\n",
      "Random baseline F1 score 0.5248911014312383\n",
      "Random baseline F1 score 0.6745488487865589\n",
      "Random baseline F1 score 0.7386434349719976\n",
      "Random baseline F1 score 0.6754822650902302\n",
      "Random baseline F1 score 0.6922837585563161\n",
      "Random baseline F1 score 0.6829495955196018\n",
      "Random baseline F1 score 0.7825140012445551\n",
      "Random baseline F1 score 0.604542626011201\n",
      "Random baseline F1 score 0.5224019912881145\n",
      "Random baseline F1 score 0.5180460485376478\n",
      "Random baseline F1 score 0.6412570006222775\n",
      "Random baseline F1 score 0.6711263223397635\n",
      "Random baseline F1 score 0.5429371499688861\n",
      "Random baseline F1 score 0.568139390168015\n",
      "Random baseline F1 score 0.5115121344119478\n",
      "Random baseline F1 score 0.5339141257000622\n",
      "Random baseline F1 score 0.6543248288736777\n",
      "Random baseline F1 score 0.6281891723708775\n",
      "Random baseline F1 score 0.7451773490976977\n",
      "Random baseline F1 score 0.7361543248288737\n",
      "Random baseline F1 score 0.7302426882389546\n",
      "Random baseline F1 score 0.663658991910392\n",
      "Random baseline F1 score 0.5093341630367144\n",
      "Random baseline F1 score 0.7327317983820784\n",
      "Random baseline F1 score 0.6981953951462352\n",
      "Random baseline F1 score 0.6922837585563161\n",
      "Random baseline F1 score 0.6957062850031114\n",
      "Random baseline F1 score 0.7850031113876789\n",
      "Random baseline F1 score 0.48942128189172374\n",
      "Random baseline F1 score 0.5715619166148102\n",
      "Random baseline F1 score 0.5028002489110143\n",
      "Random baseline F1 score 0.6095208462974486\n",
      "Random baseline F1 score 0.6362787803360299\n",
      "Random baseline F1 score 0.724019912881145\n",
      "Random baseline F1 score 0.7457996266334785\n",
      "Random baseline F1 score 0.5958307405102676\n",
      "Random baseline F1 score 0.7034847542003734\n",
      "Random baseline F1 score 0.6876166770379589\n",
      "Random baseline F1 score 0.5566272557560672\n",
      "Random baseline F1 score 0.7566894835096452\n",
      "Random baseline F1 score 0.6372121966397013\n",
      "Random baseline F1 score 0.6543248288736777\n",
      "Random baseline F1 score 0.6655258245177349\n",
      "Random baseline F1 score 0.5065339141257\n",
      "Random baseline F1 score 0.5948973242065961\n",
      "Random baseline F1 score 0.6994399502177971\n",
      "Random baseline F1 score 0.7479775980087119\n",
      "Random baseline F1 score 0.5136901057871811\n",
      "Random baseline F1 score 0.8276291225886746\n",
      "Random baseline F1 score 0.6073428749222153\n",
      "Random baseline F1 score 0.6039203484754201\n",
      "Random baseline F1 score 0.701929060360921\n",
      "Random baseline F1 score 0.7289981331673927\n",
      "Random baseline F1 score 0.6163658991910392\n",
      "Random baseline F1 score 0.5709396390790292\n",
      "Random baseline F1 score 0.7103298070939638\n",
      "Random baseline F1 score 0.7022401991288114\n",
      "Random baseline F1 score 0.5777846919726198\n",
      "Random baseline F1 score 0.7184194150591163\n",
      "Random baseline F1 score 0.5068450528935905\n",
      "Random baseline F1 score 0.5068450528935905\n",
      "Random baseline F1 score 0.6148102053515868\n",
      "Random baseline F1 score 0.49626633478531423\n",
      "Random baseline F1 score 0.619477286869944\n",
      "Random baseline F1 score 0.725264467952707\n",
      "Random baseline F1 score 0.5880522713130056\n",
      "Random baseline F1 score 0.7103298070939638\n",
      "Random baseline F1 score 0.589607965152458\n",
      "Random baseline F1 score 0.603298070939639\n",
      "Random baseline F1 score 0.6966397013067829\n",
      "Random baseline F1 score 0.5009334163036714\n",
      "Random baseline F1 score 0.5541381456129434\n",
      "Random baseline F1 score 0.5731176104542626\n",
      "Random baseline F1 score 0.723397635345364\n",
      "Random baseline F1 score 0.6051649035469819\n",
      "Random baseline F1 score 0.5992532669570628\n",
      "Random baseline F1 score 0.6901057871810827\n",
      "Random baseline F1 score 0.5161792159303049\n",
      "Random baseline F1 score 0.7899813316739267\n",
      "Random baseline F1 score 0.6204107031736155\n",
      "Random baseline F1 score 0.6904169259489732\n",
      "Random baseline F1 score 0.5130678282514001\n",
      "Random baseline F1 score 0.6518357187305538\n"
     ]
    }
   ],
   "source": [
    "feats = np.load(dataset_dir + \"/toy-ppi-feats.npy\")\n",
    "## Logistic gets thrown off by big counts, so log transform num comments and score\n",
    "feats[:,0] = np.log(feats[:,0]+1.0)\n",
    "feats[:,1] = np.log(feats[:,1]-min(np.min(feats[:,1]), -1))\n",
    "feat_id_map = json.load(open(dataset_dir + \"/toy-ppi-id_map.json\"))\n",
    "feat_id_map = {int(id):val for id,val in feat_id_map.items()}\n",
    "train_feats = feats[[feat_id_map[id] for id in train_ids]] \n",
    "test_feats = feats[[feat_id_map[id] for id in test_ids]] \n",
    "print(\"Running regression..\")\n",
    "from sklearn.preprocessing import StandardScaler\n",
    "scaler = StandardScaler()\n",
    "scaler.fit(train_feats)\n",
    "train_feats = scaler.transform(train_feats)\n",
    "test_feats = scaler.transform(test_feats)\n",
    "run_regression(train_feats, train_labels, test_feats, test_labels)"
   ]
  },
  {
   "cell_type": "markdown",
   "metadata": {
    "id": "qFDRU_ANnZhh"
   },
   "source": [
    "### Phân loại Proteins sử dụng protein features và topology information"
   ]
  },
  {
   "cell_type": "markdown",
   "metadata": {
    "id": "4i2ttpfhBgho"
   },
   "source": [
    "Sử dụng kỹ thuật GraphSage để kết hợp đặc trưng về topology cho bài toán phân loại Proteins. Trước tiên, clone GraphSage từ github:"
   ]
  },
  {
   "cell_type": "code",
   "execution_count": 7,
   "metadata": {
    "colab": {
     "base_uri": "https://localhost:8080/"
    },
    "id": "Ega8hqgQB9t6",
    "outputId": "9d1346f6-73ee-43bf-8f5a-2da9ba6a4462"
   },
   "outputs": [
    {
     "name": "stdout",
     "output_type": "stream",
     "text": [
      "Cloning into 'GraphSAGE'...\n",
      "remote: Enumerating objects: 3, done.\u001b[K\n",
      "remote: Counting objects: 100% (3/3), done.\u001b[K\n",
      "remote: Compressing objects: 100% (3/3), done.\u001b[K\n",
      "remote: Total 262 (delta 0), reused 0 (delta 0), pack-reused 259\u001b[K\n",
      "Receiving objects: 100% (262/262), 6.43 MiB | 12.91 MiB/s, done.\n",
      "Resolving deltas: 100% (158/158), done.\n"
     ]
    }
   ],
   "source": [
    "!git clone https://github.com/williamleif/GraphSAGE.git"
   ]
  },
  {
   "cell_type": "markdown",
   "metadata": {
    "id": "TPx_zoNQnZhi"
   },
   "source": [
    "Chạy module unsupervised_train trên tập dữ liệu toy-ppi, với mean-based aggregator.\n",
    "Học viên có thể thử thay đổi aggregator: graphsage_seq; graphsage_maxpool; graphsage_meanpool; gcn; n2v"
   ]
  },
  {
   "cell_type": "code",
   "execution_count": 8,
   "metadata": {
    "colab": {
     "base_uri": "https://localhost:8080/"
    },
    "id": "wymsHDLK6a2T",
    "outputId": "0815fd9c-ae21-44f3-8e74-1d7e02d9a0b4"
   },
   "outputs": [
    {
     "name": "stdout",
     "output_type": "stream",
     "text": [
      "/content/GraphSAGE\n"
     ]
    }
   ],
   "source": [
    "%cd GraphSAGE/"
   ]
  },
  {
   "cell_type": "code",
   "execution_count": 20,
   "metadata": {
    "colab": {
     "base_uri": "https://localhost:8080/"
    },
    "id": "F24bwyS37GMV",
    "outputId": "3333a10e-ee58-4c12-b7c7-255bfb75b268"
   },
   "outputs": [
    {
     "name": "stdout",
     "output_type": "stream",
     "text": [
      "`%tensorflow_version` only switches the major version: 1.x or 2.x.\n",
      "You set: `1.8`. This will be interpreted as: `1.x`.\n",
      "\n",
      "\n",
      "TensorFlow 1.x selected.\n"
     ]
    }
   ],
   "source": [
    "%tensorflow_version 1.8"
   ]
  },
  {
   "cell_type": "code",
   "execution_count": 10,
   "metadata": {
    "colab": {
     "base_uri": "https://localhost:8080/",
     "height": 1000
    },
    "id": "sJi_Nk4h6p8a",
    "outputId": "051fc593-0461-4e7f-b0b6-dde70fbfc70a"
   },
   "outputs": [
    {
     "name": "stdout",
     "output_type": "stream",
     "text": [
      "Collecting absl-py==0.2.2\n",
      "\u001b[?25l  Downloading https://files.pythonhosted.org/packages/57/8d/6664518f9b6ced0aa41cf50b989740909261d4c212557400c48e5cda0804/absl-py-0.2.2.tar.gz (82kB)\n",
      "\r",
      "\u001b[K     |████                            | 10kB 20.5MB/s eta 0:00:01\r",
      "\u001b[K     |████████                        | 20kB 27.0MB/s eta 0:00:01\r",
      "\u001b[K     |███████████▉                    | 30kB 15.1MB/s eta 0:00:01\r",
      "\u001b[K     |███████████████▉                | 40kB 10.9MB/s eta 0:00:01\r",
      "\u001b[K     |███████████████████▊            | 51kB 7.9MB/s eta 0:00:01\r",
      "\u001b[K     |███████████████████████▊        | 61kB 8.2MB/s eta 0:00:01\r",
      "\u001b[K     |███████████████████████████▋    | 71kB 8.6MB/s eta 0:00:01\r",
      "\u001b[K     |███████████████████████████████▋| 81kB 8.9MB/s eta 0:00:01\r",
      "\u001b[K     |████████████████████████████████| 92kB 5.7MB/s \n",
      "\u001b[?25hCollecting astor==0.6.2\n",
      "  Downloading https://files.pythonhosted.org/packages/b2/91/cc9805f1ff7b49f620136b3a7ca26f6a1be2ed424606804b0fbcf499f712/astor-0.6.2-py2.py3-none-any.whl\n",
      "Collecting backports.weakref==1.0.post1\n",
      "  Downloading https://files.pythonhosted.org/packages/88/ec/f598b633c3d5ffe267aaada57d961c94fdfa183c5c3ebda2b6d151943db6/backports.weakref-1.0.post1-py2.py3-none-any.whl\n",
      "Collecting bleach==1.5.0\n",
      "  Downloading https://files.pythonhosted.org/packages/33/70/86c5fec937ea4964184d4d6c4f0b9551564f821e1c3575907639036d9b90/bleach-1.5.0-py2.py3-none-any.whl\n",
      "Collecting decorator==4.3.0\n",
      "  Downloading https://files.pythonhosted.org/packages/bc/bb/a24838832ba35baf52f32ab1a49b906b5f82fb7c76b2f6a7e35e140bac30/decorator-4.3.0-py2.py3-none-any.whl\n",
      "Collecting enum34==1.1.6\n",
      "  Downloading https://files.pythonhosted.org/packages/af/42/cb9355df32c69b553e72a2e28daee25d1611d2c0d9c272aa1d34204205b2/enum34-1.1.6-py3-none-any.whl\n",
      "Collecting funcsigs==1.0.2\n",
      "  Downloading https://files.pythonhosted.org/packages/69/cb/f5be453359271714c01b9bd06126eaf2e368f1fddfff30818754b5ac2328/funcsigs-1.0.2-py2.py3-none-any.whl\n",
      "Collecting gast==0.2.0\n",
      "  Downloading https://files.pythonhosted.org/packages/5c/78/ff794fcae2ce8aa6323e789d1f8b3b7765f601e7702726f430e814822b96/gast-0.2.0.tar.gz\n",
      "Collecting grpcio==1.12.1\n",
      "\u001b[?25l  Downloading https://files.pythonhosted.org/packages/1f/ea/664c589ec41b9e9ac6e20cc1fe9016f3913332d0dc5498a5d7771e2835af/grpcio-1.12.1-cp36-cp36m-manylinux1_x86_64.whl (9.0MB)\n",
      "\u001b[K     |████████████████████████████████| 9.0MB 1.3MB/s \n",
      "\u001b[?25hCollecting html5lib==0.9999999\n",
      "\u001b[?25l  Downloading https://files.pythonhosted.org/packages/ae/ae/bcb60402c60932b32dfaf19bb53870b29eda2cd17551ba5639219fb5ebf9/html5lib-0.9999999.tar.gz (889kB)\n",
      "\u001b[K     |████████████████████████████████| 890kB 50.4MB/s \n",
      "\u001b[?25hCollecting Markdown==2.6.11\n",
      "\u001b[?25l  Downloading https://files.pythonhosted.org/packages/6d/7d/488b90f470b96531a3f5788cf12a93332f543dbab13c423a5e7ce96a0493/Markdown-2.6.11-py2.py3-none-any.whl (78kB)\n",
      "\u001b[K     |████████████████████████████████| 81kB 12.0MB/s \n",
      "\u001b[?25hCollecting mock==2.0.0\n",
      "\u001b[?25l  Downloading https://files.pythonhosted.org/packages/e6/35/f187bdf23be87092bd0f1200d43d23076cee4d0dec109f195173fd3ebc79/mock-2.0.0-py2.py3-none-any.whl (56kB)\n",
      "\u001b[K     |████████████████████████████████| 61kB 10.2MB/s \n",
      "\u001b[?25hCollecting networkx==1.11\n",
      "\u001b[?25l  Downloading https://files.pythonhosted.org/packages/d3/2c/e473e54afc9fae58dfa97066ef6709a7e35a1dd1c28c5a3842989322be00/networkx-1.11-py2.py3-none-any.whl (1.3MB)\n",
      "\u001b[K     |████████████████████████████████| 1.3MB 49.2MB/s \n",
      "\u001b[?25hCollecting numpy==1.14.5\n",
      "\u001b[?25l  Downloading https://files.pythonhosted.org/packages/68/1e/116ad560de97694e2d0c1843a7a0075cc9f49e922454d32f49a80eb6f1f2/numpy-1.14.5-cp36-cp36m-manylinux1_x86_64.whl (12.2MB)\n",
      "\u001b[K     |████████████████████████████████| 12.2MB 15.9MB/s \n",
      "\u001b[?25hCollecting pbr==4.0.4\n",
      "\u001b[?25l  Downloading https://files.pythonhosted.org/packages/b3/5d/c196041ffdf3e34ba206db6d61d1f893a75e1f3435699ade9bd65e089a3d/pbr-4.0.4-py2.py3-none-any.whl (98kB)\n",
      "\u001b[K     |████████████████████████████████| 102kB 14.4MB/s \n",
      "\u001b[?25hCollecting protobuf==3.6.0\n",
      "\u001b[?25l  Downloading https://files.pythonhosted.org/packages/fc/f0/db040681187496d10ac50ad167a8fd5f953d115b16a7085e19193a6abfd2/protobuf-3.6.0-cp36-cp36m-manylinux1_x86_64.whl (7.1MB)\n",
      "\u001b[K     |████████████████████████████████| 7.1MB 49.4MB/s \n",
      "\u001b[?25hCollecting scipy==1.1.0\n",
      "\u001b[?25l  Downloading https://files.pythonhosted.org/packages/a8/0b/f163da98d3a01b3e0ef1cab8dd2123c34aee2bafbb1c5bffa354cc8a1730/scipy-1.1.0-cp36-cp36m-manylinux1_x86_64.whl (31.2MB)\n",
      "\u001b[K     |████████████████████████████████| 31.2MB 110kB/s \n",
      "\u001b[?25hCollecting six==1.11.0\n",
      "  Downloading https://files.pythonhosted.org/packages/67/4b/141a581104b1f6397bfa78ac9d43d8ad29a7ca43ea90a2d863fe3056e86a/six-1.11.0-py2.py3-none-any.whl\n",
      "Collecting tensorboard==1.8.0\n",
      "\u001b[?25l  Downloading https://files.pythonhosted.org/packages/59/a6/0ae6092b7542cfedba6b2a1c9b8dceaf278238c39484f3ba03b03f07803c/tensorboard-1.8.0-py3-none-any.whl (3.1MB)\n",
      "\u001b[K     |████████████████████████████████| 3.1MB 45.9MB/s \n",
      "\u001b[?25hCollecting tensorflow==1.8.0\n",
      "\u001b[?25l  Downloading https://files.pythonhosted.org/packages/22/c6/d08f7c549330c2acc1b18b5c1f0f8d9d2af92f54d56861f331f372731671/tensorflow-1.8.0-cp36-cp36m-manylinux1_x86_64.whl (49.1MB)\n",
      "\u001b[K     |████████████████████████████████| 49.1MB 134kB/s \n",
      "\u001b[?25hRequirement already satisfied: termcolor==1.1.0 in /usr/local/lib/python3.6/dist-packages (from -r requirements.txt (line 21)) (1.1.0)\n",
      "Collecting Werkzeug==0.14.1\n",
      "\u001b[?25l  Downloading https://files.pythonhosted.org/packages/20/c4/12e3e56473e52375aa29c4764e70d1b8f3efa6682bef8d0aae04fe335243/Werkzeug-0.14.1-py2.py3-none-any.whl (322kB)\n",
      "\u001b[K     |████████████████████████████████| 327kB 46.3MB/s \n",
      "\u001b[?25hRequirement already satisfied: setuptools in /usr/local/lib/python3.6/dist-packages (from protobuf==3.6.0->-r requirements.txt (line 16)) (50.3.2)\n",
      "Requirement already satisfied: wheel>=0.26; python_version >= \"3\" in /usr/local/lib/python3.6/dist-packages (from tensorboard==1.8.0->-r requirements.txt (line 19)) (0.36.1)\n",
      "Building wheels for collected packages: absl-py, gast, html5lib\n",
      "  Building wheel for absl-py (setup.py) ... \u001b[?25l\u001b[?25hdone\n",
      "  Created wheel for absl-py: filename=absl_py-0.2.2-cp36-none-any.whl size=98947 sha256=11e270c7e8624dfa508508aea6866ce114460a4ab6f68934d3afba710d8d1cc9\n",
      "  Stored in directory: /root/.cache/pip/wheels/a0/f8/e9/1933dbb3447ea6ef57062fd5461cb118deb8c2ed074e8344bf\n",
      "  Building wheel for gast (setup.py) ... \u001b[?25l\u001b[?25hdone\n",
      "  Created wheel for gast: filename=gast-0.2.0-cp36-none-any.whl size=6666 sha256=cbcd26f27b48f6e4d9a4dd54a599561eabe673bd169072cd2e7fe819128cb2ac\n",
      "  Stored in directory: /root/.cache/pip/wheels/9a/1f/0e/3cde98113222b853e98fc0a8e9924480a3e25f1b4008cedb4f\n",
      "  Building wheel for html5lib (setup.py) ... \u001b[?25l\u001b[?25hdone\n",
      "  Created wheel for html5lib: filename=html5lib-0.9999999-cp36-none-any.whl size=107220 sha256=0d338e5061cc2ce2f265e1f69ea93de18d5a7e7a20eaf92db79c999999379b1b\n",
      "  Stored in directory: /root/.cache/pip/wheels/50/ae/f9/d2b189788efcf61d1ee0e36045476735c838898eef1cad6e29\n",
      "Successfully built absl-py gast html5lib\n",
      "\u001b[31mERROR: xarray 0.15.1 has requirement numpy>=1.15, but you'll have numpy 1.14.5 which is incompatible.\u001b[0m\n",
      "\u001b[31mERROR: umap-learn 0.4.6 has requirement numpy>=1.17, but you'll have numpy 1.14.5 which is incompatible.\u001b[0m\n",
      "\u001b[31mERROR: umap-learn 0.4.6 has requirement scipy>=1.3.1, but you'll have scipy 1.1.0 which is incompatible.\u001b[0m\n",
      "\u001b[31mERROR: tifffile 2020.9.3 has requirement numpy>=1.15.1, but you'll have numpy 1.14.5 which is incompatible.\u001b[0m\n",
      "\u001b[31mERROR: tensorflow-probability 0.11.0 has requirement gast>=0.3.2, but you'll have gast 0.2.0 which is incompatible.\u001b[0m\n",
      "\u001b[31mERROR: tensorflow-metadata 0.25.0 has requirement absl-py<0.11,>=0.9, but you'll have absl-py 0.2.2 which is incompatible.\u001b[0m\n",
      "\u001b[31mERROR: tensorflow-metadata 0.25.0 has requirement protobuf<4,>=3.7, but you'll have protobuf 3.6.0 which is incompatible.\u001b[0m\n",
      "\u001b[31mERROR: tensorflow-hub 0.10.0 has requirement protobuf>=3.8.0, but you'll have protobuf 3.6.0 which is incompatible.\u001b[0m\n",
      "\u001b[31mERROR: tensorflow-datasets 4.0.1 has requirement protobuf>=3.6.1, but you'll have protobuf 3.6.0 which is incompatible.\u001b[0m\n",
      "\u001b[31mERROR: spacy 2.2.4 has requirement numpy>=1.15.0, but you'll have numpy 1.14.5 which is incompatible.\u001b[0m\n",
      "\u001b[31mERROR: seaborn 0.11.0 has requirement numpy>=1.15, but you'll have numpy 1.14.5 which is incompatible.\u001b[0m\n",
      "\u001b[31mERROR: scikit-image 0.16.2 has requirement networkx>=2.0, but you'll have networkx 1.11 which is incompatible.\u001b[0m\n",
      "\u001b[31mERROR: plotnine 0.6.0 has requirement numpy>=1.16.0, but you'll have numpy 1.14.5 which is incompatible.\u001b[0m\n",
      "\u001b[31mERROR: plotnine 0.6.0 has requirement scipy>=1.2.0, but you'll have scipy 1.1.0 which is incompatible.\u001b[0m\n",
      "\u001b[31mERROR: pandas 1.1.5 has requirement numpy>=1.15.4, but you'll have numpy 1.14.5 which is incompatible.\u001b[0m\n",
      "\u001b[31mERROR: numba 0.48.0 has requirement numpy>=1.15, but you'll have numpy 1.14.5 which is incompatible.\u001b[0m\n",
      "\u001b[31mERROR: nbclient 0.5.1 has requirement jupyter-client>=6.1.5, but you'll have jupyter-client 5.3.5 which is incompatible.\u001b[0m\n",
      "\u001b[31mERROR: imgaug 0.2.9 has requirement numpy>=1.15.0, but you'll have numpy 1.14.5 which is incompatible.\u001b[0m\n",
      "\u001b[31mERROR: google-colab 1.0.0 has requirement astor~=0.8.1, but you'll have astor 0.6.2 which is incompatible.\u001b[0m\n",
      "\u001b[31mERROR: google-colab 1.0.0 has requirement six~=1.15.0, but you'll have six 1.11.0 which is incompatible.\u001b[0m\n",
      "\u001b[31mERROR: flask 1.1.2 has requirement Werkzeug>=0.15, but you'll have werkzeug 0.14.1 which is incompatible.\u001b[0m\n",
      "\u001b[31mERROR: fbprophet 0.7.1 has requirement numpy>=1.15.4, but you'll have numpy 1.14.5 which is incompatible.\u001b[0m\n",
      "\u001b[31mERROR: fastai 1.0.61 has requirement numpy>=1.15, but you'll have numpy 1.14.5 which is incompatible.\u001b[0m\n",
      "\u001b[31mERROR: dm-tree 0.1.5 has requirement six>=1.12.0, but you'll have six 1.11.0 which is incompatible.\u001b[0m\n",
      "\u001b[31mERROR: datascience 0.10.6 has requirement folium==0.2.1, but you'll have folium 0.8.3 which is incompatible.\u001b[0m\n",
      "\u001b[31mERROR: cvxpy 1.0.31 has requirement numpy>=1.15, but you'll have numpy 1.14.5 which is incompatible.\u001b[0m\n",
      "\u001b[31mERROR: blis 0.4.1 has requirement numpy>=1.15.0, but you'll have numpy 1.14.5 which is incompatible.\u001b[0m\n",
      "\u001b[31mERROR: astropy 4.1 has requirement numpy>=1.16, but you'll have numpy 1.14.5 which is incompatible.\u001b[0m\n",
      "\u001b[31mERROR: albumentations 0.1.12 has requirement imgaug<0.2.7,>=0.2.5, but you'll have imgaug 0.2.9 which is incompatible.\u001b[0m\n",
      "Installing collected packages: six, absl-py, astor, backports.weakref, html5lib, bleach, decorator, enum34, funcsigs, gast, grpcio, Markdown, pbr, mock, networkx, numpy, protobuf, scipy, Werkzeug, tensorboard, tensorflow\n",
      "  Found existing installation: six 1.15.0\n",
      "    Uninstalling six-1.15.0:\n",
      "      Successfully uninstalled six-1.15.0\n",
      "  Found existing installation: absl-py 0.10.0\n",
      "    Uninstalling absl-py-0.10.0:\n",
      "      Successfully uninstalled absl-py-0.10.0\n",
      "  Found existing installation: astor 0.8.1\n",
      "    Uninstalling astor-0.8.1:\n",
      "      Successfully uninstalled astor-0.8.1\n",
      "  Found existing installation: html5lib 1.0.1\n",
      "    Uninstalling html5lib-1.0.1:\n",
      "      Successfully uninstalled html5lib-1.0.1\n",
      "  Found existing installation: bleach 3.2.1\n",
      "    Uninstalling bleach-3.2.1:\n",
      "      Successfully uninstalled bleach-3.2.1\n",
      "  Found existing installation: decorator 4.4.2\n",
      "    Uninstalling decorator-4.4.2:\n",
      "      Successfully uninstalled decorator-4.4.2\n",
      "  Found existing installation: gast 0.3.3\n",
      "    Uninstalling gast-0.3.3:\n",
      "      Successfully uninstalled gast-0.3.3\n",
      "  Found existing installation: grpcio 1.34.0\n",
      "    Uninstalling grpcio-1.34.0:\n",
      "      Successfully uninstalled grpcio-1.34.0\n",
      "  Found existing installation: Markdown 3.3.3\n",
      "    Uninstalling Markdown-3.3.3:\n",
      "      Successfully uninstalled Markdown-3.3.3\n",
      "  Found existing installation: networkx 2.5\n",
      "    Uninstalling networkx-2.5:\n",
      "      Successfully uninstalled networkx-2.5\n",
      "  Found existing installation: numpy 1.18.5\n",
      "    Uninstalling numpy-1.18.5:\n",
      "      Successfully uninstalled numpy-1.18.5\n",
      "  Found existing installation: protobuf 3.12.4\n",
      "    Uninstalling protobuf-3.12.4:\n",
      "      Successfully uninstalled protobuf-3.12.4\n",
      "  Found existing installation: scipy 1.4.1\n",
      "    Uninstalling scipy-1.4.1:\n",
      "      Successfully uninstalled scipy-1.4.1\n",
      "  Found existing installation: Werkzeug 1.0.1\n",
      "    Uninstalling Werkzeug-1.0.1:\n",
      "      Successfully uninstalled Werkzeug-1.0.1\n",
      "  Found existing installation: tensorboard 2.3.0\n",
      "    Uninstalling tensorboard-2.3.0:\n",
      "      Successfully uninstalled tensorboard-2.3.0\n",
      "  Found existing installation: tensorflow 2.3.0\n",
      "    Uninstalling tensorflow-2.3.0:\n",
      "      Successfully uninstalled tensorflow-2.3.0\n",
      "Successfully installed Markdown-2.6.11 Werkzeug-0.14.1 absl-py-0.2.2 astor-0.6.2 backports.weakref-1.0.post1 bleach-1.5.0 decorator-4.3.0 enum34-1.1.6 funcsigs-1.0.2 gast-0.2.0 grpcio-1.12.1 html5lib-0.9999999 mock-2.0.0 networkx-1.11 numpy-1.14.5 pbr-4.0.4 protobuf-3.6.0 scipy-1.1.0 six-1.11.0 tensorboard-1.8.0 tensorflow-1.8.0\n"
     ]
    },
    {
     "data": {
      "application/vnd.colab-display-data+json": {
       "pip_warning": {
        "packages": [
         "astor",
         "decorator",
         "enum",
         "google",
         "networkx",
         "numpy",
         "scipy",
         "six"
        ]
       }
      }
     },
     "metadata": {
      "tags": []
     },
     "output_type": "display_data"
    }
   ],
   "source": [
    "!pip install -r requirements.txt"
   ]
  },
  {
   "cell_type": "code",
   "execution_count": 11,
   "metadata": {
    "colab": {
     "base_uri": "https://localhost:8080/"
    },
    "id": "39aNj2CRnZhj",
    "outputId": "d6123d28-5da6-42c6-9b00-9d0df7879622"
   },
   "outputs": [
    {
     "name": "stdout",
     "output_type": "stream",
     "text": [
      "Loading training data..\n",
      "Removed 0 nodes that lacked proper annotations due to networkx versioning issues\n",
      "Loaded data.. now preprocessing..\n",
      "Done loading training data..\n",
      "Unexpected missing: 0\n",
      "9716 train nodes\n",
      "5039 test nodes\n",
      "2020-12-11 04:51:26.541420: I tensorflow/core/platform/cpu_feature_guard.cc:140] Your CPU supports instructions that this TensorFlow binary was not compiled to use: AVX2 FMA\n",
      "Epoch: 0001\n",
      "Iter: 0000 train_loss= 18.78067 train_mrr= 0.23649 train_mrr_ema= 0.23649 val_loss= 19.08406 val_mrr= 0.18671 val_mrr_ema= 0.18671 time= 0.83781\n",
      "Iter: 0050 train_loss= 18.47410 train_mrr= 0.17529 train_mrr_ema= 0.21827 val_loss= 18.57477 val_mrr= 0.22494 val_mrr_ema= 0.18911 time= 0.30174\n",
      "Iter: 0100 train_loss= 18.42166 train_mrr= 0.17687 train_mrr_ema= 0.20626 val_loss= 18.20559 val_mrr= 0.20144 val_mrr_ema= 0.19924 time= 0.29699\n",
      "Iter: 0150 train_loss= 17.77015 train_mrr= 0.19358 train_mrr_ema= 0.19745 val_loss= 18.07098 val_mrr= 0.21800 val_mrr_ema= 0.20326 time= 0.29506\n",
      "Iter: 0200 train_loss= 16.99069 train_mrr= 0.20501 train_mrr_ema= 0.19109 val_loss= 17.78284 val_mrr= 0.20084 val_mrr_ema= 0.20422 time= 0.29424\n",
      "Iter: 0250 train_loss= 16.76881 train_mrr= 0.19550 train_mrr_ema= 0.18947 val_loss= 17.28420 val_mrr= 0.16866 val_mrr_ema= 0.21214 time= 0.29362\n",
      "Iter: 0300 train_loss= 16.83907 train_mrr= 0.17744 train_mrr_ema= 0.18836 val_loss= 16.72139 val_mrr= 0.21865 val_mrr_ema= 0.20349 time= 0.29298\n",
      "Iter: 0350 train_loss= 16.34184 train_mrr= 0.20565 train_mrr_ema= 0.18663 val_loss= 16.46977 val_mrr= 0.21145 val_mrr_ema= 0.20789 time= 0.29378\n",
      "Iter: 0400 train_loss= 15.89980 train_mrr= 0.19470 train_mrr_ema= 0.18785 val_loss= 15.91515 val_mrr= 0.19145 val_mrr_ema= 0.20628 time= 0.29346\n",
      "Iter: 0450 train_loss= 15.62824 train_mrr= 0.19753 train_mrr_ema= 0.18735 val_loss= 15.83811 val_mrr= 0.22900 val_mrr_ema= 0.20561 time= 0.29309\n",
      "Iter: 0500 train_loss= 15.35660 train_mrr= 0.21074 train_mrr_ema= 0.18724 val_loss= 15.49363 val_mrr= 0.21836 val_mrr_ema= 0.20352 time= 0.29298\n",
      "Iter: 0550 train_loss= 15.23116 train_mrr= 0.20050 train_mrr_ema= 0.18722 val_loss= 15.39946 val_mrr= 0.21182 val_mrr_ema= 0.20648 time= 0.29298\n",
      "Iter: 0600 train_loss= 15.10798 train_mrr= 0.18175 train_mrr_ema= 0.18716 val_loss= 15.19757 val_mrr= 0.18759 val_mrr_ema= 0.20747 time= 0.29276\n",
      "Iter: 0650 train_loss= 15.01393 train_mrr= 0.16072 train_mrr_ema= 0.18653 val_loss= 15.05522 val_mrr= 0.23012 val_mrr_ema= 0.19972 time= 0.29259\n",
      "Iter: 0700 train_loss= 14.95283 train_mrr= 0.18840 train_mrr_ema= 0.18509 val_loss= 15.00657 val_mrr= 0.19005 val_mrr_ema= 0.20088 time= 0.29240\n",
      "Iter: 0750 train_loss= 14.86380 train_mrr= 0.16415 train_mrr_ema= 0.18465 val_loss= 14.86133 val_mrr= 0.23768 val_mrr_ema= 0.20276 time= 0.29221\n",
      "Iter: 0800 train_loss= 14.78028 train_mrr= 0.18751 train_mrr_ema= 0.18482 val_loss= 14.85435 val_mrr= 0.21937 val_mrr_ema= 0.20764 time= 0.29203\n",
      "Iter: 0850 train_loss= 14.75232 train_mrr= 0.20040 train_mrr_ema= 0.18608 val_loss= 14.76568 val_mrr= 0.22708 val_mrr_ema= 0.20870 time= 0.29183\n",
      "Iter: 0900 train_loss= 14.68409 train_mrr= 0.22158 train_mrr_ema= 0.18618 val_loss= 14.78470 val_mrr= 0.23384 val_mrr_ema= 0.21038 time= 0.29180\n",
      "Iter: 0950 train_loss= 14.70294 train_mrr= 0.21221 train_mrr_ema= 0.18708 val_loss= 14.71489 val_mrr= 0.21961 val_mrr_ema= 0.21077 time= 0.29171\n",
      "Iter: 1000 train_loss= 14.70814 train_mrr= 0.17192 train_mrr_ema= 0.18612 val_loss= 14.66952 val_mrr= 0.18962 val_mrr_ema= 0.20960 time= 0.29159\n",
      "Optimization Finished!\n"
     ]
    }
   ],
   "source": [
    "!python -m graphsage.unsupervised_train --train_prefix ./example_data/toy-ppi --model graphsage_mean --max_total_steps 1000 --validate_iter 10"
   ]
  },
  {
   "cell_type": "markdown",
   "metadata": {
    "id": "Ku0CNiMFnZhp"
   },
   "source": [
    "Kết quả embed được lưu xuống tệp *'val.npy'*, gồm các vector *d* chiều biểu diễn các nodes của ppi trong không gian vector."
   ]
  },
  {
   "cell_type": "code",
   "execution_count": 12,
   "metadata": {
    "colab": {
     "base_uri": "https://localhost:8080/"
    },
    "id": "ZCZly3fPnZhp",
    "outputId": "90f1fc9c-8821-4e7d-ad33-20308eb6e411"
   },
   "outputs": [
    {
     "name": "stdout",
     "output_type": "stream",
     "text": [
      "[[ 0.08493663 -0.09270122  0.08393622 ...  0.01101307  0.0197683\n",
      "  -0.02167838]\n",
      " [-0.0138827   0.0685497  -0.00072682 ... -0.09227714 -0.00045772\n",
      "   0.0740908 ]\n",
      " [-0.03758346  0.02042661  0.05431975 ...  0.04314912  0.09420752\n",
      "  -0.07455792]\n",
      " ...\n",
      " [ 0.04227313 -0.12351843 -0.04573519 ... -0.00327433  0.01051723\n",
      "  -0.00968124]\n",
      " [-0.05660874  0.09731396 -0.09867457 ...  0.02644388  0.13637076\n",
      "   0.03107577]\n",
      " [ 0.01826782 -0.08390719 -0.04281924 ...  0.04707416  0.00856595\n",
      "   0.07259557]]\n",
      "(14755, 256)\n"
     ]
    }
   ],
   "source": [
    "data_dir = 'unsup-example_data/graphsage_mean_small_0.000010'\n",
    "\n",
    "embeds = np.load(data_dir + \"/val.npy\")\n",
    "print(embeds)\n",
    "print(embeds.shape)"
   ]
  },
  {
   "cell_type": "markdown",
   "metadata": {
    "id": "Khz0d0A9nZhs"
   },
   "source": [
    "Thực hiện phân loại proteins sử dụng mô hình hồi quy trên dữ liệu PPI đã embed "
   ]
  },
  {
   "cell_type": "code",
   "execution_count": 14,
   "metadata": {
    "colab": {
     "base_uri": "https://localhost:8080/"
    },
    "id": "KSl55mnQnZhs",
    "outputId": "fbc165ff-9a27-4a6b-9d8e-8de63ffe9d66"
   },
   "outputs": [
    {
     "name": "stdout",
     "output_type": "stream",
     "text": [
      "Running regression..\n"
     ]
    },
    {
     "name": "stderr",
     "output_type": "stream",
     "text": [
      "/usr/local/lib/python3.6/dist-packages/sklearn/dummy.py:132: FutureWarning: The default value of strategy will change from stratified to prior in 0.24.\n",
      "  \"stratified to prior in 0.24.\", FutureWarning)\n"
     ]
    },
    {
     "name": "stdout",
     "output_type": "stream",
     "text": [
      "F1 score 0.5871188550093341\n",
      "F1 score 0.6922837585563161\n",
      "F1 score 0.7271313005600498\n",
      "F1 score 0.6627255756067206\n",
      "F1 score 0.7650902302426882\n",
      "F1 score 0.7321095208462974\n",
      "F1 score 0.6708151835718731\n",
      "F1 score 0.5952084629744866\n",
      "F1 score 0.7853142501555694\n",
      "F1 score 0.5880522713130056\n",
      "F1 score 0.7212196639701307\n",
      "F1 score 0.6876166770379589\n",
      "F1 score 0.574673304293715\n",
      "F1 score 0.7174859987554449\n",
      "F1 score 0.7495332918481643\n",
      "F1 score 0.5672059738643435\n",
      "F1 score 0.8385189794648413\n",
      "F1 score 0.746110765401369\n",
      "F1 score 0.6605476042314873\n",
      "F1 score 0.5637834474175483\n",
      "F1 score 0.7433105164903546\n",
      "F1 score 0.568139390168015\n",
      "F1 score 0.6907280647168638\n",
      "F1 score 0.5945861854387057\n",
      "F1 score 0.7700684505289359\n",
      "F1 score 0.5644057249533292\n",
      "F1 score 0.5693839452395768\n",
      "F1 score 0.6291225886745488\n",
      "F1 score 0.5628500311138768\n",
      "F1 score 0.7392657125077784\n",
      "F1 score 0.6157436216552582\n",
      "F1 score 0.783758556316117\n",
      "F1 score 0.8027380211574362\n",
      "F1 score 0.7498444306160548\n",
      "F1 score 0.7103298070939638\n",
      "F1 score 0.6400124455507156\n",
      "F1 score 0.6919726197884256\n",
      "F1 score 0.6885500933416304\n",
      "F1 score 0.5920970752955819\n",
      "F1 score 0.7041070317361543\n",
      "F1 score 0.7629122588674548\n",
      "F1 score 0.725264467952707\n",
      "F1 score 0.7103298070939638\n",
      "F1 score 0.7022401991288114\n",
      "F1 score 0.7787803360298693\n",
      "F1 score 0.6673926571250778\n",
      "F1 score 0.5653391412570006\n",
      "F1 score 0.5398257622899814\n",
      "F1 score 0.6484131922837586\n",
      "F1 score 0.6978842563783447\n",
      "F1 score 0.5861854387056628\n",
      "F1 score 0.6253889234598631\n",
      "F1 score 0.5777846919726198\n",
      "F1 score 0.5665836963285625\n",
      "F1 score 0.6932171748599876\n",
      "F1 score 0.6776602364654636\n",
      "F1 score 0.7479775980087119\n",
      "F1 score 0.7853142501555694\n",
      "F1 score 0.7352209085252024\n",
      "F1 score 0.6879278158058494\n",
      "F1 score 0.5634723086496577\n",
      "F1 score 0.7781580584940884\n",
      "F1 score 0.7255756067205974\n",
      "F1 score 0.6524579962663348\n",
      "F1 score 0.7087741132545116\n",
      "F1 score 0.8046048537647791\n",
      "F1 score 0.514312383322962\n",
      "F1 score 0.5846297448662103\n",
      "F1 score 0.5488487865588052\n",
      "F1 score 0.6630367143746111\n",
      "F1 score 0.6328562538892346\n",
      "F1 score 0.7594897324206596\n",
      "F1 score 0.7728686994399502\n",
      "F1 score 0.6322339763534537\n",
      "F1 score 0.7364654635967642\n",
      "F1 score 0.7115743621655259\n",
      "F1 score 0.5662725575606721\n",
      "F1 score 0.8055382700684506\n",
      "F1 score 0.6742377100186683\n",
      "F1 score 0.7146857498444306\n",
      "F1 score 0.718108276291226\n",
      "F1 score 0.5420037336652147\n",
      "F1 score 0.6537025513378967\n",
      "F1 score 0.7078406969508401\n",
      "F1 score 0.7514001244555072\n",
      "F1 score 0.5239576851275669\n",
      "F1 score 0.8665214685749845\n",
      "F1 score 0.6393901680149346\n",
      "F1 score 0.7006845052893591\n",
      "F1 score 0.7053515868077163\n",
      "F1 score 0.7573117610454263\n",
      "F1 score 0.6645924082140635\n",
      "F1 score 0.6219663970130678\n",
      "F1 score 0.7171748599875545\n",
      "F1 score 0.7439327940261355\n",
      "F1 score 0.5973864343497199\n",
      "F1 score 0.7579340385812073\n",
      "F1 score 0.5497822028624767\n",
      "F1 score 0.5743621655258245\n",
      "F1 score 0.6459240821406347\n",
      "F1 score 0.5547604231487243\n",
      "F1 score 0.6593030491599253\n",
      "F1 score 0.7212196639701307\n",
      "F1 score 0.6440572495332918\n",
      "F1 score 0.7177971375233354\n",
      "F1 score 0.581207218419415\n",
      "F1 score 0.5920970752955819\n",
      "F1 score 0.7274424393279403\n",
      "F1 score 0.6141879278158059\n",
      "F1 score 0.5793403858120721\n",
      "F1 score 0.6297448662103298\n",
      "F1 score 0.7249533291848165\n",
      "F1 score 0.6518357187305538\n",
      "F1 score 0.6490354698195395\n",
      "F1 score 0.7115743621655259\n",
      "F1 score 0.5522713130056005\n",
      "F1 score 0.7912258867454884\n",
      "F1 score 0.6477909147479776\n",
      "F1 score 0.7308649657747356\n",
      "F1 score 0.5532047293092719\n",
      "F1 score 0.6742377100186683\n",
      "Random baseline F1 score 0.5413814561294338\n",
      "Random baseline F1 score 0.641568139390168\n",
      "Random baseline F1 score 0.6835718730553827\n",
      "Random baseline F1 score 0.6372121966397013\n",
      "Random baseline F1 score 0.761667703795893\n",
      "Random baseline F1 score 0.6929060360920971\n",
      "Random baseline F1 score 0.6197884256378344\n",
      "Random baseline F1 score 0.5435594275046671\n",
      "Random baseline F1 score 0.738954573739888\n",
      "Random baseline F1 score 0.5488487865588052\n",
      "Random baseline F1 score 0.6695706285003111\n",
      "Random baseline F1 score 0.6565028002489111\n",
      "Random baseline F1 score 0.5706285003111388\n",
      "Random baseline F1 score 0.7034847542003734\n",
      "Random baseline F1 score 0.7069072806471687\n",
      "Random baseline F1 score 0.5311138767890479\n",
      "Random baseline F1 score 0.8086496577473553\n",
      "Random baseline F1 score 0.7542003733665215\n",
      "Random baseline F1 score 0.6222775357809583\n",
      "Random baseline F1 score 0.5003111387678905\n",
      "Random baseline F1 score 0.7028624766645925\n",
      "Random baseline F1 score 0.5102675793403858\n",
      "Random baseline F1 score 0.6586807716241444\n",
      "Random baseline F1 score 0.5606720597386434\n",
      "Random baseline F1 score 0.7190416925948973\n",
      "Random baseline F1 score 0.5258245177349098\n",
      "Random baseline F1 score 0.5482265090230243\n",
      "Random baseline F1 score 0.5647168637212197\n",
      "Random baseline F1 score 0.5737398879900436\n",
      "Random baseline F1 score 0.7193528313627878\n",
      "Random baseline F1 score 0.5510267579340385\n",
      "Random baseline F1 score 0.7582451773490977\n",
      "Random baseline F1 score 0.798070939639079\n",
      "Random baseline F1 score 0.7445550715619166\n",
      "Random baseline F1 score 0.6817050404480398\n",
      "Random baseline F1 score 0.5522713130056005\n",
      "Random baseline F1 score 0.6969508400746733\n",
      "Random baseline F1 score 0.6645924082140635\n",
      "Random baseline F1 score 0.5248911014312383\n",
      "Random baseline F1 score 0.6745488487865589\n",
      "Random baseline F1 score 0.7386434349719976\n",
      "Random baseline F1 score 0.6754822650902302\n",
      "Random baseline F1 score 0.6922837585563161\n",
      "Random baseline F1 score 0.6829495955196018\n",
      "Random baseline F1 score 0.7825140012445551\n",
      "Random baseline F1 score 0.604542626011201\n",
      "Random baseline F1 score 0.5224019912881145\n",
      "Random baseline F1 score 0.5180460485376478\n",
      "Random baseline F1 score 0.6412570006222775\n",
      "Random baseline F1 score 0.6711263223397635\n",
      "Random baseline F1 score 0.5429371499688861\n",
      "Random baseline F1 score 0.568139390168015\n",
      "Random baseline F1 score 0.5115121344119478\n",
      "Random baseline F1 score 0.5339141257000622\n",
      "Random baseline F1 score 0.6543248288736777\n",
      "Random baseline F1 score 0.6281891723708775\n",
      "Random baseline F1 score 0.7451773490976977\n",
      "Random baseline F1 score 0.7361543248288737\n",
      "Random baseline F1 score 0.7302426882389546\n",
      "Random baseline F1 score 0.663658991910392\n",
      "Random baseline F1 score 0.5093341630367144\n",
      "Random baseline F1 score 0.7327317983820784\n",
      "Random baseline F1 score 0.6981953951462352\n",
      "Random baseline F1 score 0.6922837585563161\n",
      "Random baseline F1 score 0.6957062850031114\n",
      "Random baseline F1 score 0.7850031113876789\n",
      "Random baseline F1 score 0.48942128189172374\n",
      "Random baseline F1 score 0.5715619166148102\n",
      "Random baseline F1 score 0.5028002489110143\n",
      "Random baseline F1 score 0.6095208462974486\n",
      "Random baseline F1 score 0.6362787803360299\n",
      "Random baseline F1 score 0.724019912881145\n",
      "Random baseline F1 score 0.7457996266334785\n",
      "Random baseline F1 score 0.5958307405102676\n",
      "Random baseline F1 score 0.7034847542003734\n",
      "Random baseline F1 score 0.6876166770379589\n",
      "Random baseline F1 score 0.5566272557560672\n",
      "Random baseline F1 score 0.7566894835096452\n",
      "Random baseline F1 score 0.6372121966397013\n",
      "Random baseline F1 score 0.6543248288736777\n",
      "Random baseline F1 score 0.6655258245177349\n",
      "Random baseline F1 score 0.5065339141257\n",
      "Random baseline F1 score 0.5948973242065961\n",
      "Random baseline F1 score 0.6994399502177971\n",
      "Random baseline F1 score 0.7479775980087119\n",
      "Random baseline F1 score 0.5136901057871811\n",
      "Random baseline F1 score 0.8276291225886746\n",
      "Random baseline F1 score 0.6073428749222153\n",
      "Random baseline F1 score 0.6039203484754201\n",
      "Random baseline F1 score 0.701929060360921\n",
      "Random baseline F1 score 0.7289981331673927\n",
      "Random baseline F1 score 0.6163658991910392\n",
      "Random baseline F1 score 0.5709396390790292\n",
      "Random baseline F1 score 0.7103298070939638\n",
      "Random baseline F1 score 0.7022401991288114\n",
      "Random baseline F1 score 0.5777846919726198\n",
      "Random baseline F1 score 0.7184194150591163\n",
      "Random baseline F1 score 0.5068450528935905\n",
      "Random baseline F1 score 0.5068450528935905\n",
      "Random baseline F1 score 0.6148102053515868\n",
      "Random baseline F1 score 0.49626633478531423\n",
      "Random baseline F1 score 0.619477286869944\n",
      "Random baseline F1 score 0.725264467952707\n",
      "Random baseline F1 score 0.5880522713130056\n",
      "Random baseline F1 score 0.7103298070939638\n",
      "Random baseline F1 score 0.589607965152458\n",
      "Random baseline F1 score 0.603298070939639\n",
      "Random baseline F1 score 0.6966397013067829\n",
      "Random baseline F1 score 0.5009334163036714\n",
      "Random baseline F1 score 0.5541381456129434\n",
      "Random baseline F1 score 0.5731176104542626\n",
      "Random baseline F1 score 0.723397635345364\n",
      "Random baseline F1 score 0.6051649035469819\n",
      "Random baseline F1 score 0.5992532669570628\n",
      "Random baseline F1 score 0.6901057871810827\n",
      "Random baseline F1 score 0.5161792159303049\n",
      "Random baseline F1 score 0.7899813316739267\n",
      "Random baseline F1 score 0.6204107031736155\n",
      "Random baseline F1 score 0.6904169259489732\n",
      "Random baseline F1 score 0.5130678282514001\n",
      "Random baseline F1 score 0.6518357187305538\n"
     ]
    }
   ],
   "source": [
    "id_map = {}\n",
    "with open(data_dir + \"/val.txt\") as fp:\n",
    "    for i, line in enumerate(fp):\n",
    "        id_map[int(line.strip())] = i\n",
    "train_embeds = embeds[[id_map[id] for id in train_ids]] \n",
    "test_embeds = embeds[[id_map[id] for id in test_ids]] \n",
    "\n",
    "print(\"Running regression..\")\n",
    "# chạy regression\n",
    "#### YOUR CODE HERE ####\n",
    "from sklearn.preprocessing import StandardScaler\n",
    "scaler = StandardScaler()\n",
    "scaler.fit(train_embeds)\n",
    "train_embeds = scaler.transform(train_embeds)\n",
    "test_embeds = scaler.transform(test_embeds)\n",
    "run_regression(train_embeds, train_labels, test_embeds, test_labels)"
   ]
  }
 ],
 "metadata": {
  "accelerator": "GPU",
  "colab": {
   "collapsed_sections": [],
   "name": "graph_embed_sage.ipynb",
   "provenance": [],
   "toc_visible": true
  },
  "kernelspec": {
   "display_name": "Python 3",
   "language": "python",
   "name": "python3"
  },
  "language_info": {
   "codemirror_mode": {
    "name": "ipython",
    "version": 3
   },
   "file_extension": ".py",
   "mimetype": "text/x-python",
   "name": "python",
   "nbconvert_exporter": "python",
   "pygments_lexer": "ipython3",
   "version": "3.8.3"
  }
 },
 "nbformat": 4,
 "nbformat_minor": 1
}
