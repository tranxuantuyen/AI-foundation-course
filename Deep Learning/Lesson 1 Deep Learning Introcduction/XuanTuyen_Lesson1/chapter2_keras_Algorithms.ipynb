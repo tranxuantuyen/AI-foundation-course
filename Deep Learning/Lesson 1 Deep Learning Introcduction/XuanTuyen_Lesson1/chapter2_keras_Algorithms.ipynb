{
 "cells": [
  {
   "cell_type": "code",
   "execution_count": 16,
   "metadata": {},
   "outputs": [],
   "source": [
    "import numpy as np\n",
    "from keras.datasets import mnist\n",
    "from keras.models import Sequential\n",
    "from keras.layers.core import Dense, Activation,Dropout\n",
    "from keras import optimizers\n",
    "from keras.utils import np_utils\n",
    "import matplotlib.pyplot as plt\n",
    "from keras.callbacks import EarlyStopping"
   ]
  },
  {
   "cell_type": "code",
   "execution_count": 17,
   "metadata": {},
   "outputs": [],
   "source": [
    "np.random.seed(1671)  # for reproducibility\n",
    "# network and training\n",
    "NB_EPOCH = 20\n",
    "BATCH_SIZE = 128\n",
    "VERBOSE = 1\n",
    "NB_CLASSES = 10   # number of outputs = number of digits\n",
    "\n",
    "n_hidden1 = 500\n",
    "n_hidden2 = 300\n",
    "n_hidden3 = 100\n",
    "VALIDATION_SPLIT=0.2 # how much TRAIN is reserved for VALIDATION"
   ]
  },
  {
   "cell_type": "code",
   "execution_count": 18,
   "metadata": {},
   "outputs": [
    {
     "name": "stdout",
     "output_type": "stream",
     "text": [
      "(60000, 'train samples')\n",
      "(10000, 'test samples')\n"
     ]
    }
   ],
   "source": [
    "# data: shuffled and split between train and test sets\n",
    "(x_train, y_train), (x_test, y_test) = mnist.load_data()\n",
    "#X_train is 60000 rows of 28x28 values --> reshaped in 60000 x 784\n",
    "input_size = 784\n",
    "x_train = x_train.reshape(60000, input_size)\n",
    "x_test = x_test.reshape(10000, input_size)\n",
    "x_train = x_train.astype('float32')\n",
    "x_test = x_test.astype('float32')\n",
    "\n",
    "# normalize \n",
    "x_train /= 255\n",
    "x_test /= 255\n",
    "print(x_train.shape[0], 'train samples')\n",
    "print(x_test.shape[0], 'test samples')\n",
    "\n",
    "# convert class vectors to binary class matrices\n",
    "y_train = np_utils.to_categorical(y_train, NB_CLASSES)\n",
    "y_test = np_utils.to_categorical(y_test, NB_CLASSES)"
   ]
  },
  {
   "cell_type": "code",
   "execution_count": 19,
   "metadata": {},
   "outputs": [
    {
     "name": "stdout",
     "output_type": "stream",
     "text": [
      "_________________________________________________________________\n",
      "Layer (type)                 Output Shape              Param #   \n",
      "=================================================================\n",
      "dense_9 (Dense)              (None, 500)               392500    \n",
      "_________________________________________________________________\n",
      "activation_9 (Activation)    (None, 500)               0         \n",
      "_________________________________________________________________\n",
      "dropout_1 (Dropout)          (None, 500)               0         \n",
      "_________________________________________________________________\n",
      "dense_10 (Dense)             (None, 300)               150300    \n",
      "_________________________________________________________________\n",
      "activation_10 (Activation)   (None, 300)               0         \n",
      "_________________________________________________________________\n",
      "dropout_2 (Dropout)          (None, 300)               0         \n",
      "_________________________________________________________________\n",
      "dense_11 (Dense)             (None, 100)               30100     \n",
      "_________________________________________________________________\n",
      "activation_11 (Activation)   (None, 100)               0         \n",
      "_________________________________________________________________\n",
      "dropout_3 (Dropout)          (None, 100)               0         \n",
      "_________________________________________________________________\n",
      "dense_12 (Dense)             (None, 10)                1010      \n",
      "_________________________________________________________________\n",
      "activation_12 (Activation)   (None, 10)                0         \n",
      "=================================================================\n",
      "Total params: 573,910\n",
      "Trainable params: 573,910\n",
      "Non-trainable params: 0\n",
      "_________________________________________________________________\n",
      "Train on 48000 samples, validate on 12000 samples\n",
      "Epoch 1/20\n",
      "48000/48000 [==============================] - 8s 177us/step - loss: 2.3307 - acc: 0.1142 - val_loss: 2.2786 - val_acc: 0.1035\n",
      "Epoch 2/20\n",
      "48000/48000 [==============================] - 8s 167us/step - loss: 2.2767 - acc: 0.1470 - val_loss: 2.2230 - val_acc: 0.4504\n",
      "Epoch 3/20\n",
      "48000/48000 [==============================] - 8s 165us/step - loss: 2.0888 - acc: 0.2605 - val_loss: 1.6624 - val_acc: 0.5192\n",
      "Epoch 4/20\n",
      "48000/48000 [==============================] - 8s 168us/step - loss: 1.5110 - acc: 0.4429 - val_loss: 1.1466 - val_acc: 0.6378\n",
      "Epoch 5/20\n",
      "48000/48000 [==============================] - 8s 162us/step - loss: 1.1575 - acc: 0.5847 - val_loss: 0.8399 - val_acc: 0.7362\n",
      "Epoch 6/20\n",
      "48000/48000 [==============================] - 7s 146us/step - loss: 0.9533 - acc: 0.6699 - val_loss: 0.7028 - val_acc: 0.7862\n",
      "Epoch 7/20\n",
      "48000/48000 [==============================] - 7s 142us/step - loss: 0.8280 - acc: 0.7254 - val_loss: 0.5970 - val_acc: 0.8243\n",
      "Epoch 8/20\n",
      "48000/48000 [==============================] - 8s 166us/step - loss: 0.7310 - acc: 0.7612 - val_loss: 0.5308 - val_acc: 0.8448\n",
      "Epoch 9/20\n",
      "48000/48000 [==============================] - 8s 165us/step - loss: 0.6679 - acc: 0.7865 - val_loss: 0.4853 - val_acc: 0.8555\n",
      "Epoch 10/20\n",
      "48000/48000 [==============================] - 8s 176us/step - loss: 0.6252 - acc: 0.8024 - val_loss: 0.4545 - val_acc: 0.8686\n",
      "Epoch 11/20\n",
      "48000/48000 [==============================] - 8s 164us/step - loss: 0.5913 - acc: 0.8163 - val_loss: 0.4310 - val_acc: 0.8744\n",
      "Epoch 12/20\n",
      "48000/48000 [==============================] - 8s 169us/step - loss: 0.5612 - acc: 0.8246 - val_loss: 0.4085 - val_acc: 0.8813\n",
      "Epoch 13/20\n",
      "48000/48000 [==============================] - 8s 165us/step - loss: 0.5374 - acc: 0.8350 - val_loss: 0.3906 - val_acc: 0.8858\n",
      "Epoch 14/20\n",
      "48000/48000 [==============================] - 8s 164us/step - loss: 0.5162 - acc: 0.8403 - val_loss: 0.3783 - val_acc: 0.8882\n",
      "Epoch 15/20\n",
      "48000/48000 [==============================] - 8s 162us/step - loss: 0.4936 - acc: 0.8499 - val_loss: 0.3644 - val_acc: 0.8916\n",
      "Epoch 16/20\n",
      "48000/48000 [==============================] - 8s 174us/step - loss: 0.4805 - acc: 0.8539 - val_loss: 0.3507 - val_acc: 0.8957\n",
      "Epoch 17/20\n",
      "48000/48000 [==============================] - 8s 171us/step - loss: 0.4643 - acc: 0.8601 - val_loss: 0.3397 - val_acc: 0.8987\n",
      "Epoch 18/20\n",
      "48000/48000 [==============================] - 8s 170us/step - loss: 0.4498 - acc: 0.8644 - val_loss: 0.3306 - val_acc: 0.9009\n",
      "Epoch 19/20\n",
      "48000/48000 [==============================] - 9s 186us/step - loss: 0.4413 - acc: 0.8674 - val_loss: 0.3227 - val_acc: 0.9027\n",
      "Epoch 20/20\n",
      "48000/48000 [==============================] - 8s 172us/step - loss: 0.4280 - acc: 0.8700 - val_loss: 0.3137 - val_acc: 0.9061\n",
      "10000/10000 [==============================] - 1s 93us/step\n",
      "('\\nTest score:', 0.31952277879714963)\n",
      "('Test accuracy:', 0.9013)\n"
     ]
    }
   ],
   "source": [
    "# 10 outputs\n",
    "# final stage is softmax\n",
    "model = Sequential()\n",
    "model.add(Dense(n_hidden1, input_shape=(input_size,)))\n",
    "model.add(Activation('sigmoid'))\n",
    "model.add(Dropout(0.3))\n",
    "model.add(Dense(n_hidden2))\n",
    "model.add(Activation('sigmoid'))\n",
    "model.add(Dropout(0.3))\n",
    "model.add(Dense(n_hidden3))\n",
    "model.add(Activation('sigmoid'))\n",
    "model.add(Dropout(0.3))\n",
    "model.add(Dense(NB_CLASSES))\n",
    "model.add(Activation('softmax'))\n",
    "model.summary()\n",
    "\n",
    "#OPTIMIZER = optimizers.SGD(lr=0.01)\n",
    "OPTIMIZER = optimizers.SGD(lr=0.01, momentum=0.9,nesterov=True)\n",
    "\n",
    "#OPTIMIZER = optimizers.SGD(lr=0.01, decay=1e-6, momentum=0.9, nesterov=True)\n",
    "#OPTIMIZER=optimizers.RMSprop(lr=0.001, rho=0.9, epsilon=None, decay=0.0)\n",
    "#OPTIMIZER=optimizers.Adagrad(lr=0.05, epsilon=None, decay=0.0)\n",
    "#OPTIMIZER=optimizers.Adadelta(rho=0.95, epsilon=None, decay=0.0)\n",
    "#OPTIMIZER=optimizers.Adam(lr=0.001, beta_1=0.9, beta_2=0.999, epsilon=None, decay=0.0, amsgrad=False)\n",
    "#OPTIMIZER=optimizers.Adamax(lr=0.002, beta_1=0.9, beta_2=0.999, epsilon=None, decay=0.0)\n",
    "#OPTIMIZER=optimizers.Nadam(lr=0.002, beta_1=0.9, beta_2=0.999, epsilon=None, schedule_decay=0.004)\n",
    "\n",
    "earlystop = EarlyStopping(monitor='val_acc', min_delta=0.0001, patience=5, \\                          verbose=1, mode='auto')\n",
    "callbacks_list = [earlystop]\n",
    "\n",
    "model.compile(loss='categorical_crossentropy',\n",
    "              optimizer=OPTIMIZER,\n",
    "              metrics=['accuracy'])\n",
    "\n",
    "history = model.fit(x_train, y_train,\n",
    "                    batch_size=BATCH_SIZE, epochs=NB_EPOCH,callbacks=callbacks_list,\n",
    "                    verbose=VERBOSE, validation_split=VALIDATION_SPLIT)\n",
    "\n",
    "\n",
    "score = model.evaluate(x_test, y_test, verbose=VERBOSE)\n",
    "print(\"\\nTest score:\", score[0])\n",
    "print('Test accuracy:', score[1])"
   ]
  },
  {
   "cell_type": "code",
   "execution_count": 20,
   "metadata": {},
   "outputs": [],
   "source": [
    "train_sgd=history.history['acc']\n",
    "val_sgd=history.history['val_acc']\n",
    "\n",
    "sgd_err_train=[]\n",
    "sgd_err_val=[]\n",
    "for t1,t2 in zip(train_sgd,val_sgd):\n",
    "    sgd_err_train.append(1-t1)\n",
    "    sgd_err_val.append(1-t2)\n",
    "    \n",
    "    \n",
    "# train_momentum=history.history['acc']\n",
    "# val_momentum=history.history['val_acc']\n",
    "# momentum_err_train=[]\n",
    "# momentum_err_val=[]\n",
    "# for t1,t2 in zip(train_momentum,val_momentum):\n",
    "#     momentum_err_train.append(1-t1)\n",
    "#     momentum_err_val.append(1-t2)"
   ]
  },
  {
   "cell_type": "code",
   "execution_count": 21,
   "metadata": {},
   "outputs": [
    {
     "data": {
      "image/png": "[encoded data removed]",
      "text/plain": [
       "<matplotlib.figure.Figure at 0x7f008a6ac5d0>"
      ]
     },
     "metadata": {},
     "output_type": "display_data"
    }
   ],
   "source": [
    "# plt.plot(train_RMSprop)\n",
    "# plt.plot(train_RMSprop)\n",
    "\n",
    "plt.plot(sgd_err_train)\n",
    "plt.plot(sgd_err_val)\n",
    "\n",
    "\n",
    "\n",
    "plt.title('model error')\n",
    "plt.ylabel('accuracy')\n",
    "plt.xlabel('epoch')\n",
    "plt.legend(['sgd_err_train','sgd_err_val'], loc='upper left')\n",
    "\n",
    "plt.show()"
   ]
  },
  {
   "cell_type": "code",
   "execution_count": null,
   "metadata": {},
   "outputs": [],
   "source": []
  }
 ],
 "metadata": {
  "kernelspec": {
   "display_name": "Python 3",
   "language": "python",
   "name": "python3"
  },
  "language_info": {
   "codemirror_mode": {
    "name": "ipython",
    "version": 3
   },
   "file_extension": ".py",
   "mimetype": "text/x-python",
   "name": "python",
   "nbconvert_exporter": "python",
   "pygments_lexer": "ipython3",
   "version": "3.8.3"
  }
 },
 "nbformat": 4,
 "nbformat_minor": 2
}
