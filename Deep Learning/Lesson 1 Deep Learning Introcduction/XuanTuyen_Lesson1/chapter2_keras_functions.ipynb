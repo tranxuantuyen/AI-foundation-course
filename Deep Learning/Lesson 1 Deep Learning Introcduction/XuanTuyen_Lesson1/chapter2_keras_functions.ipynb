{
 "cells": [
  {
   "cell_type": "code",
   "execution_count": 39,
   "metadata": {},
   "outputs": [],
   "source": [
    "import numpy as np\n",
    "from keras.datasets import mnist\n",
    "from keras.models import Sequential\n",
    "from keras.layers.core import Dense, Activation,Dropout\n",
    "from keras import optimizers\n",
    "from keras.utils import np_utils\n",
    "import matplotlib.pyplot as plt"
   ]
  },
  {
   "cell_type": "code",
   "execution_count": 40,
   "metadata": {},
   "outputs": [],
   "source": [
    "np.random.seed(1671)  # for reproducibility\n",
    "# network and training\n",
    "NB_EPOCH = 10\n",
    "BATCH_SIZE = 128\n",
    "VERBOSE = 1\n",
    "NB_CLASSES = 10   # number of outputs = number of digits\n",
    "\n",
    "n_hidden1 = 500\n",
    "n_hidden2 = 300\n",
    "n_hidden3 = 100\n",
    "VALIDATION_SPLIT=0.2 # how much TRAIN is reserved for VALIDATION\n",
    "DROPOUT = 0.3"
   ]
  },
  {
   "cell_type": "code",
   "execution_count": 41,
   "metadata": {},
   "outputs": [
    {
     "name": "stdout",
     "output_type": "stream",
     "text": [
      "(60000, 'train samples')\n",
      "(10000, 'test samples')\n"
     ]
    }
   ],
   "source": [
    "# data: shuffled and split between train and test sets\n",
    "#\n",
    "(x_train, y_train), (x_test, y_test) = mnist.load_data()\n",
    "#X_train is 60000 rows of 28x28 values --> reshaped in 60000 x 784\n",
    "input_size = 784\n",
    "x_train = x_train.reshape(60000, input_size)\n",
    "x_test = x_test.reshape(10000, input_size)\n",
    "x_train = x_train.astype('float32')\n",
    "x_test = x_test.astype('float32')\n",
    "\n",
    "#print(y_train)\n",
    "\n",
    "# normalize\n",
    "x_train /= 255\n",
    "x_test /= 255\n",
    "print(x_train.shape[0],'train samples')\n",
    "print(x_test.shape[0],'test samples')\n",
    "\n",
    "# convert class vectors to binary class matrices\n",
    "y_train = np_utils.to_categorical(y_train, NB_CLASSES)\n",
    "y_test = np_utils.to_categorical(y_test, NB_CLASSES)\n",
    "\n",
    "#print(y_train)"
   ]
  },
  {
   "cell_type": "code",
   "execution_count": 42,
   "metadata": {},
   "outputs": [
    {
     "name": "stdout",
     "output_type": "stream",
     "text": [
      "_________________________________________________________________\n",
      "Layer (type)                 Output Shape              Param #   \n",
      "=================================================================\n",
      "dense_21 (Dense)             (None, 500)               392500    \n",
      "_________________________________________________________________\n",
      "activation_21 (Activation)   (None, 500)               0         \n",
      "_________________________________________________________________\n",
      "dense_22 (Dense)             (None, 300)               150300    \n",
      "_________________________________________________________________\n",
      "activation_22 (Activation)   (None, 300)               0         \n",
      "_________________________________________________________________\n",
      "dense_23 (Dense)             (None, 100)               30100     \n",
      "_________________________________________________________________\n",
      "activation_23 (Activation)   (None, 100)               0         \n",
      "_________________________________________________________________\n",
      "dense_24 (Dense)             (None, 10)                1010      \n",
      "_________________________________________________________________\n",
      "activation_24 (Activation)   (None, 10)                0         \n",
      "=================================================================\n",
      "Total params: 573,910\n",
      "Trainable params: 573,910\n",
      "Non-trainable params: 0\n",
      "_________________________________________________________________\n",
      "Train on 48000 samples, validate on 12000 samples\n",
      "Epoch 1/10\n",
      "48000/48000 [==============================] - 14s 288us/step - loss: 0.5399 - acc: 0.8461 - val_loss: 0.3395 - val_acc: 0.9048\n",
      "Epoch 2/10\n",
      "48000/48000 [==============================] - 14s 283us/step - loss: 0.3330 - acc: 0.9034 - val_loss: 0.2953 - val_acc: 0.9163\n",
      "Epoch 3/10\n",
      "48000/48000 [==============================] - 13s 280us/step - loss: 0.2959 - acc: 0.9137 - val_loss: 0.2728 - val_acc: 0.9222\n",
      "Epoch 4/10\n",
      "48000/48000 [==============================] - 13s 270us/step - loss: 0.2734 - acc: 0.9210 - val_loss: 0.2570 - val_acc: 0.9257\n",
      "Epoch 5/10\n",
      "48000/48000 [==============================] - 13s 271us/step - loss: 0.2561 - acc: 0.9264 - val_loss: 0.2447 - val_acc: 0.9297\n",
      "Epoch 6/10\n",
      "48000/48000 [==============================] - 13s 271us/step - loss: 0.2414 - acc: 0.9311 - val_loss: 0.2333 - val_acc: 0.9341\n",
      "Epoch 7/10\n",
      "48000/48000 [==============================] - 13s 278us/step - loss: 0.2287 - acc: 0.9350 - val_loss: 0.2256 - val_acc: 0.9364\n",
      "Epoch 8/10\n",
      "48000/48000 [==============================] - 13s 279us/step - loss: 0.2166 - acc: 0.9383 - val_loss: 0.2153 - val_acc: 0.9401\n",
      "Epoch 9/10\n",
      "48000/48000 [==============================] - 13s 274us/step - loss: 0.2058 - acc: 0.9415 - val_loss: 0.2083 - val_acc: 0.9418\n",
      "Epoch 10/10\n",
      "48000/48000 [==============================] - 13s 268us/step - loss: 0.1958 - acc: 0.9449 - val_loss: 0.1998 - val_acc: 0.9442\n",
      "10000/10000 [==============================] - 2s 161us/step\n",
      "('\\nTest score:', 0.19780667585134507)\n",
      "('Test accuracy:', 0.9415)\n"
     ]
    }
   ],
   "source": [
    "model = Sequential()\n",
    "model.add(Dense(n_hidden1, input_shape=(input_size,)))\n",
    "model.add(Activation('selu'))\n",
    "model.add(Dense(n_hidden2))\n",
    "model.add(Activation('selu'))\n",
    "model.add(Dense(n_hidden3))\n",
    "model.add(Activation('selu'))\n",
    "model.add(Dense(NB_CLASSES))\n",
    "model.add(Activation('softmax'))\n",
    "model.summary()\n",
    "\n",
    "OPTIMIZER = optimizers.SGD(lr=0.01)\n",
    "\n",
    "model.compile(loss='categorical_crossentropy',\n",
    "              optimizer=OPTIMIZER,\n",
    "              metrics=['accuracy'])\n",
    "\n",
    "history = model.fit(x_train, y_train,\n",
    "                    batch_size=BATCH_SIZE, epochs=NB_EPOCH,\n",
    "                    verbose=1, validation_split=0.2)\n",
    "score = model.evaluate(x_test, y_test, verbose=1)\n",
    "print(\"\\nTest score:\", score[0])\n",
    "print('Test accuracy:', score[1])"
   ]
  },
  {
   "cell_type": "code",
   "execution_count": 43,
   "metadata": {},
   "outputs": [],
   "source": [
    "train_selu=history.history['acc']\n",
    "val_selu=history.history['val_acc']"
   ]
  },
  {
   "cell_type": "code",
   "execution_count": 44,
   "metadata": {},
   "outputs": [
    {
     "data": {
      "image/png": "[encoded data removed]",
      "text/plain": [
       "<matplotlib.figure.Figure at 0x7fdfc8182c90>"
      ]
     },
     "metadata": {},
     "output_type": "display_data"
    }
   ],
   "source": [
    "plt.plot(train_relu)\n",
    "plt.plot(val_relu)\n",
    "\n",
    "plt.plot(train_selu)\n",
    "plt.plot(val_selu)\n",
    "\n",
    "plt.plot(train_tanh)\n",
    "plt.plot(val_tanh)\n",
    "\n",
    "plt.title('model accuracy')\n",
    "plt.ylabel('accuracy')\n",
    "plt.xlabel('epoch')\n",
    "plt.legend(['train_relu', 'val_relu',\n",
    "            'val_tanh','val_tanh','val_selu','val_selu'], loc='upper left')\n",
    "plt.show()"
   ]
  },
  {
   "cell_type": "code",
   "execution_count": 46,
   "metadata": {},
   "outputs": [],
   "source": [
    "model.save('models/mnist_ann.h5')"
   ]
  }
 ],
 "metadata": {
  "kernelspec": {
   "display_name": "Python 3",
   "language": "python",
   "name": "python3"
  },
  "language_info": {
   "codemirror_mode": {
    "name": "ipython",
    "version": 3
   },
   "file_extension": ".py",
   "mimetype": "text/x-python",
   "name": "python",
   "nbconvert_exporter": "python",
   "pygments_lexer": "ipython3",
   "version": "3.5.2"
  }
 },
 "nbformat": 4,
 "nbformat_minor": 2
}
