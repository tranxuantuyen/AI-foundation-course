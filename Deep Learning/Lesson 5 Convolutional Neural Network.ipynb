{
  "nbformat": 4,
  "nbformat_minor": 0,
  "metadata": {
    "kernelspec": {
      "display_name": "Python 3",
      "language": "python",
      "name": "python3"
    },
    "language_info": {
      "codemirror_mode": {
        "name": "ipython",
        "version": 3
      },
      "file_extension": ".py",
      "mimetype": "text/x-python",
      "name": "python",
      "nbconvert_exporter": "python",
      "pygments_lexer": "ipython3",
      "version": "3.5.2"
    },
    "colab": {
      "name": "chapter3_lenet_Xuân Tuyến.ipynb",
      "provenance": []
    }
  },
  "cells": [
    {
      "cell_type": "code",
      "metadata": {
        "id": "0oG-mQrvPFpv"
      },
      "source": [
        "# import the necessary packages\n",
        "from tensorflow.keras import backend as K\n",
        "from tensorflow.keras.models import Sequential\n",
        "from tensorflow.keras.layers import Conv2D\n",
        "from tensorflow.keras.layers import MaxPooling2D\n",
        "from tensorflow.keras.layers import Activation\n",
        "from tensorflow.keras.layers import Flatten\n",
        "from tensorflow.keras.layers import Dense\n",
        "from tensorflow.keras.datasets import mnist\n",
        "from tensorflow.keras.utils import to_categorical\n",
        "from tensorflow.keras.optimizers import SGD, RMSprop, Adam\n",
        "import numpy as np\n",
        "\n",
        "import matplotlib.pyplot as plt"
      ],
      "execution_count": null,
      "outputs": []
    },
    {
      "cell_type": "code",
      "metadata": {
        "id": "Vvvva4DHPFpv"
      },
      "source": [
        "np.random.seed(1671)  # for reproducibility\n",
        "\n",
        "# network and training\n",
        "NB_EPOCH = 10\n",
        "BATCH_SIZE = 128\n",
        "VERBOSE = 1\n",
        "OPTIMIZER = Adam()\n",
        "VALIDATION_SPLIT=0.2\n",
        "\n",
        "IMG_ROWS, IMG_COLS = 28, 28 # input image dimensions\n",
        "NB_CLASSES = 10  # number of outputs = number of digits\n",
        "input_shape = (IMG_ROWS, IMG_COLS, 1)"
      ],
      "execution_count": null,
      "outputs": []
    },
    {
      "cell_type": "code",
      "metadata": {
        "colab": {
          "base_uri": "https://localhost:8080/"
        },
        "id": "rOJsZtvEPFpv",
        "outputId": "6d5fdad9-9467-44e7-c029-e3c1f79f3b10"
      },
      "source": [
        "# data: shuffled and split between train and test sets\n",
        "(x_train, y_train), (x_test, y_test) = mnist.load_data()\n",
        "# K.set_image_dim_ordering(\"th\")\n",
        "\n",
        "# consider them as float and normalize\n",
        "x_train = x_train.astype('float32')\n",
        "x_test = x_test.astype('float32')\n",
        "x_train /= 255 \n",
        "x_test /= 255  \n",
        "\n",
        "# we need a 60K x [1 x 28 x 28] shape as input to the CONVNET\n",
        "x_train = x_train[:, :, :, np.newaxis]\n",
        "x_test = x_test[:, :, :, np.newaxis]\n",
        "\n",
        "print(x_train.shape[0], 'train samples')\n",
        "print(x_test.shape[0], 'test samples')\n",
        "\n",
        "# convert class vectors to binary class matrices\n",
        "y_train = to_categorical(y_train, NB_CLASSES)\n",
        "y_test = to_categorical(y_test, NB_CLASSES)\n",
        "\n",
        "\n",
        "print(x_train.shape)"
      ],
      "execution_count": null,
      "outputs": [
        {
          "output_type": "stream",
          "text": [
            "60000 train samples\n",
            "10000 test samples\n",
            "(60000, 28, 28, 1)\n"
          ],
          "name": "stdout"
        }
      ]
    },
    {
      "cell_type": "code",
      "metadata": {
        "id": "8u0Xfv6IPFpw"
      },
      "source": [
        "model = Sequential()\n",
        "#CONV => RELU => POOL\n",
        "model.add(Conv2D(20, kernel_size=5, padding=\"same\",input_shape=input_shape))\n",
        "model.add(Activation(\"relu\"))\n",
        "model.add(MaxPooling2D(pool_size=(2, 2), strides=(2, 2)))\n",
        "# CONV => RELU => POOL\n",
        "model.add(Conv2D(50, kernel_size=5, padding=\"same\"))\n",
        "model.add(Activation(\"relu\"))\n",
        "model.add(MaxPooling2D(pool_size=(2, 2), strides=(2, 2)))\n",
        "# Flatten => RELU layers\n",
        "model.add(Flatten())\n",
        "model.add(Dense(500))\n",
        "model.add(Activation(\"relu\"))\n",
        "\n",
        "# a softmax classifier\n",
        "model.add(Dense(NB_CLASSES))\n",
        "model.add(Activation(\"softmax\"))"
      ],
      "execution_count": null,
      "outputs": []
    },
    {
      "cell_type": "code",
      "metadata": {
        "colab": {
          "base_uri": "https://localhost:8080/"
        },
        "id": "G3xPnZNYPFpw",
        "outputId": "bd9fc2e6-472b-4452-8074-7c1680aae250"
      },
      "source": [
        "# initialize the optimizer and model\n",
        "#model = LeNet.build(input_shape=INPUT_SHAPE, classes=NB_CLASSES)\n",
        "\n",
        "print(x_train.shape)\n",
        "print(y_train.shape)\n",
        "\n",
        "model.compile(loss=\"categorical_crossentropy\", optimizer=OPTIMIZER,metrics=[\"accuracy\"])\n",
        "\n",
        "history = model.fit(x_train, y_train, batch_size=BATCH_SIZE, epochs=NB_EPOCH, verbose=VERBOSE, validation_split=VALIDATION_SPLIT)"
      ],
      "execution_count": null,
      "outputs": [
        {
          "output_type": "stream",
          "text": [
            "(60000, 28, 28, 1)\n",
            "(60000, 10)\n",
            "Epoch 1/10\n",
            "375/375 [==============================] - 88s 235ms/step - loss: 0.1825 - accuracy: 0.9434 - val_loss: 0.0601 - val_accuracy: 0.9810\n",
            "Epoch 2/10\n",
            "375/375 [==============================] - 87s 232ms/step - loss: 0.0494 - accuracy: 0.9841 - val_loss: 0.0466 - val_accuracy: 0.9863\n",
            "Epoch 3/10\n",
            "375/375 [==============================] - 88s 234ms/step - loss: 0.0324 - accuracy: 0.9895 - val_loss: 0.0417 - val_accuracy: 0.9878\n",
            "Epoch 4/10\n",
            "375/375 [==============================] - 88s 234ms/step - loss: 0.0238 - accuracy: 0.9917 - val_loss: 0.0384 - val_accuracy: 0.9885\n",
            "Epoch 5/10\n",
            "375/375 [==============================] - 94s 250ms/step - loss: 0.0175 - accuracy: 0.9940 - val_loss: 0.0323 - val_accuracy: 0.9901\n",
            "Epoch 6/10\n",
            "375/375 [==============================] - 88s 235ms/step - loss: 0.0131 - accuracy: 0.9957 - val_loss: 0.0370 - val_accuracy: 0.9904\n",
            "Epoch 7/10\n",
            "375/375 [==============================] - 87s 232ms/step - loss: 0.0103 - accuracy: 0.9965 - val_loss: 0.0400 - val_accuracy: 0.9891\n",
            "Epoch 8/10\n",
            "375/375 [==============================] - 87s 231ms/step - loss: 0.0084 - accuracy: 0.9971 - val_loss: 0.0400 - val_accuracy: 0.9898\n",
            "Epoch 9/10\n",
            "375/375 [==============================] - 88s 233ms/step - loss: 0.0072 - accuracy: 0.9974 - val_loss: 0.0417 - val_accuracy: 0.9904\n",
            "Epoch 10/10\n",
            "375/375 [==============================] - 87s 233ms/step - loss: 0.0070 - accuracy: 0.9979 - val_loss: 0.0436 - val_accuracy: 0.9892\n"
          ],
          "name": "stdout"
        }
      ]
    },
    {
      "cell_type": "code",
      "metadata": {
        "id": "rUX77FfbPFpw",
        "outputId": "d6cf736b-04c3-4bc4-ed63-821a8171cf0d"
      },
      "source": [
        "score = model.evaluate(x_test, y_test, verbose=VERBOSE)\n",
        "print(\"\\nTest score:\", score[0])\n",
        "print('Test accuracy:', score[1])"
      ],
      "execution_count": null,
      "outputs": [
        {
          "output_type": "stream",
          "text": [
            "10000/10000 [==============================] - 23s 2ms/step\n",
            "('\\nTest score:', 0.03123832540251642)\n",
            "('Test accuracy:', 0.9909)\n"
          ],
          "name": "stdout"
        }
      ]
    },
    {
      "cell_type": "code",
      "metadata": {
        "colab": {
          "base_uri": "https://localhost:8080/",
          "height": 591
        },
        "id": "S280EqCSPFpx",
        "outputId": "28c62d84-f2b0-4b5a-b85a-43b4732fa083"
      },
      "source": [
        "# list all data in history\n",
        "print(history.history.keys())\n",
        "# summarize history for accuracy\n",
        "plt.plot(history.history['accuracy'])\n",
        "plt.plot(history.history['val_accuracy'])\n",
        "plt.title('model accuracy')\n",
        "plt.ylabel('accuracy')\n",
        "plt.xlabel('epoch')\n",
        "plt.legend(['train', 'test'], loc='upper left')\n",
        "plt.show()\n",
        "# summarize history for loss\n",
        "plt.plot(history.history['loss'])\n",
        "plt.plot(history.history['val_loss'])\n",
        "plt.title('model loss')\n",
        "plt.ylabel('loss')\n",
        "plt.xlabel('epoch')\n",
        "plt.legend(['train', 'test'], loc='upper left')\n",
        "plt.show()\n"
      ],
      "execution_count": null,
      "outputs": [
        {
          "output_type": "stream",
          "text": [
            "dict_keys(['loss', 'accuracy', 'val_loss', 'val_accuracy'])\n"
          ],
          "name": "stdout"
        },
        {
          "output_type": "display_data",
          "data": {
            "image/png": "[encoded data removed]",
            "text/plain": [
              "<Figure size 432x288 with 1 Axes>"
            ]
          },
          "metadata": {
            "tags": [],
            "needs_background": "light"
          }
        },
        {
          "output_type": "display_data",
          "data": {
            "image/png": "[encoded data removed]",
            "text/plain": [
              "<Figure size 432x288 with 1 Axes>"
            ]
          },
          "metadata": {
            "tags": [],
            "needs_background": "light"
          }
        }
      ]
    },
    {
      "cell_type": "code",
      "metadata": {
        "id": "bdGrBpPbPFpx"
      },
      "source": [
        "from keras.models import load_model\n",
        "model.save('lenet_model.h5')  # creates a HDF5 file 'my_model.h5'\n",
        "#del model"
      ],
      "execution_count": null,
      "outputs": []
    }
  ]
}