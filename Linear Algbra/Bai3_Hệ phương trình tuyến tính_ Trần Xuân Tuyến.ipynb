{
 "cells": [
  {
   "cell_type": "markdown",
   "metadata": {},
   "source": [
    "# Bài tập 1"
   ]
  },
  {
   "cell_type": "code",
   "execution_count": 28,
   "metadata": {},
   "outputs": [
    {
     "data": {
      "text/plain": [
       "True"
      ]
     },
     "execution_count": 28,
     "metadata": {},
     "output_type": "execute_result"
    }
   ],
   "source": [
    "import numpy as np\n",
    "from scipy import linalg\n",
    "A = np.array([[2, 1, -1, -1], [2, 5, -7, -5], [2, -1, 1, 3], [5, 2, -4, 2]])\n",
    "b = np.array([1, -2, 4, 6])\n",
    "A_inv = np.linalg.inv(A)\n",
    "X_option1 = np.dot(A_inv, b)\n",
    "\n",
    "\n",
    "\n",
    "lu, piv = linalg.lu_factor(A)\n",
    "X_option2 = linalg.lu_solve((lu,piv), b)\n",
    "\n",
    "\n",
    "np.allclose(X_option2, X_option1)"
   ]
  },
  {
   "cell_type": "markdown",
   "metadata": {},
   "source": [
    "# Bài tập 2"
   ]
  },
  {
   "cell_type": "code",
   "execution_count": 29,
   "metadata": {},
   "outputs": [
    {
     "name": "stdout",
     "output_type": "stream",
     "text": [
      "Cau a: Cac he so can tim la:  1.9999999999999856 -3.500000000000002 2.9999999999999987 -0.5000000000000047\n",
      "Cau b: Cac he so can tim la:  1.0000000000000009 1.9999999999999971 2.4518122660839934e-15 -0.5000000000000002\n"
     ]
    }
   ],
   "source": [
    "def f0():\n",
    "    return 1\n",
    "def f1a(x):\n",
    "    return x\n",
    "def f2a(x):\n",
    "    return x*x\n",
    "def f3a(x):\n",
    "    return x*x*x\n",
    "\n",
    "\n",
    "def f1b(x):\n",
    "    return x - 1\n",
    "def f2b(x):\n",
    "    return (x - 1)*(x-2)\n",
    "def f3b(x):\n",
    "    return (x - 1)*(x - 2)*(x - 3)\n",
    "\n",
    "Ca = np.array([[f0(), f1a(1), f2a(1), f3a(1)], [f0(), f1a(2), f2a(2), f3a(2)], [f0(), f1a(3), f2a(3), f3a(3)], [f0(), f1a(4), f2a(4), f3a(4)]])\n",
    "Cb = np.array([[f0(), f1b(1), f2b(1), f3b(1)], [f0(), f1b(2), f2b(2), f3b(2)], [f0(), f1b(3), f2b(3), f3b(3)], [f0(), f1b(4), f2b(4), f3b(4)]])\n",
    "y = np.array([1, 3, 5, 4])\n",
    "x = np.array([1, 2, 3, 4])\n",
    "\n",
    "c0a, c1a, c2a, c3a = np.linalg.lstsq(Ca, y, rcond=None)[0]\n",
    "c0b, c1b, c2b, c3b = np.linalg.lstsq(Cb, y,  rcond=None)[0]\n",
    "\n",
    "print(\"Cau a: Cac he so can tim la: \", c0a, c1a, c2a, c3a)\n",
    "print(\"Cau b: Cac he so can tim la: \", c0b, c1b, c2b, c3b)"
   ]
  },
  {
   "cell_type": "markdown",
   "metadata": {},
   "source": [
    "# Bài tập 3"
   ]
  },
  {
   "cell_type": "code",
   "execution_count": 21,
   "metadata": {},
   "outputs": [
    {
     "data": {
      "image/png": "[encoded data removed]",
      "text/plain": [
       "<Figure size 432x288 with 1 Axes>"
      ]
     },
     "metadata": {
      "needs_background": "light"
     },
     "output_type": "display_data"
    },
    {
     "name": "stdout",
     "output_type": "stream",
     "text": [
      "Log10_N = 3.125593+0.154018(year-1970)\n"
     ]
    }
   ],
   "source": [
    "year = np.array([1971, 1972, 1974, 1978, 1982, 1985, 1989, 1993, 1997, 1999, 2000, 2002, 2003])\n",
    "trans = np.array([2250, 2500, 5000, 29000, 120000, 275000, 1180000, 3100000, 7500000, 24000000, 42000000, 220000000, 410000000])\n",
    "\n",
    "A = np.vstack([np.ones(len(year)), year - 1970]).T\n",
    "b0, b1 = np.linalg.lstsq(A, np.log10(trans), rcond=None)[0]\n",
    "\n",
    "xfit = np.linspace(1970, 2009) \n",
    "#Xfit = xfit[:,np.newaxis]\n",
    "yfit = b1*(xfit - 1970)+b0\n",
    "plt.scatter(year, np.log10(trans), label = 'original data')\n",
    "plt.plot(xfit, yfit,'r', label = 'fitted data')\n",
    "\n",
    "plt.show()\n",
    "print(\"Log10_N = %f+%f(year-1970)\"%(b0,b1))"
   ]
  },
  {
   "cell_type": "markdown",
   "metadata": {},
   "source": [
    "# Bài tập 4"
   ]
  },
  {
   "cell_type": "code",
   "execution_count": 6,
   "metadata": {},
   "outputs": [
    {
     "name": "stdout",
     "output_type": "stream",
     "text": [
      "Mo hinh: y = 25792.200199+9449.962321 x\n"
     ]
    },
    {
     "data": {
      "image/png": "[encoded data removed]",
      "text/plain": [
       "<Figure size 432x288 with 1 Axes>"
      ]
     },
     "metadata": {
      "needs_background": "light"
     },
     "output_type": "display_data"
    }
   ],
   "source": [
    "import matplotlib.pyplot as plt\n",
    "import pandas as pd\n",
    "import numpy as np\n",
    "from sklearn.linear_model import LinearRegression\n",
    "data = pd.read_csv(\"salary_data.csv\")\n",
    "x = data[\"YearsExperience\"].values\n",
    "y = data[\"Salary\"].values\n",
    "model = LinearRegression(fit_intercept=True)\n",
    "X = x[:,np.newaxis]\n",
    "model.fit(X, y)\n",
    "print(\"Mo hinh: y = %f+%f x\"%(model.intercept_, model.coef_[0]))\n",
    "xfit = np.linspace(-1, 11)\n",
    "Xfit = xfit[:,np.newaxis]\n",
    "yfit = model.predict(Xfit)\n",
    "plt.scatter(x, y, label = 'original data')\n",
    "plt.plot(xfit, yfit,'r', label = 'fitted data')\n",
    "\n",
    "plt.show()"
   ]
  }
 ],
 "metadata": {
  "kernelspec": {
   "display_name": "Python 3",
   "language": "python",
   "name": "python3"
  },
  "language_info": {
   "codemirror_mode": {
    "name": "ipython",
    "version": 3
   },
   "file_extension": ".py",
   "mimetype": "text/x-python",
   "name": "python",
   "nbconvert_exporter": "python",
   "pygments_lexer": "ipython3",
   "version": "3.8.3"
  }
 },
 "nbformat": 4,
 "nbformat_minor": 4
}
