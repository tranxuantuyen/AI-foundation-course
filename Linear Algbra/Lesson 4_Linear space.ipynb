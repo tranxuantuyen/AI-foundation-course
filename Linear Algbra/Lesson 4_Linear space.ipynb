{
 "cells": [
  {
   "cell_type": "markdown",
   "metadata": {},
   "source": [
    "# Bài 1"
   ]
  },
  {
   "cell_type": "code",
   "execution_count": 9,
   "metadata": {},
   "outputs": [
    {
     "name": "stdout",
     "output_type": "stream",
     "text": [
      "Co so truc chuan cua x \n",
      "  [-0.11867817 -0.59339083  0.71206899 -0.3560345 ] [ 0.59339083 -0.11867817 -0.3560345  -0.71206899] [-0.71206899  0.3560345  -0.11867817 -0.59339083]\n",
      " \n",
      " Vector y khi duoc chieu xuong la:  [ 0.1971831  -0.15492958  0.07042254]\n"
     ]
    }
   ],
   "source": [
    "import numpy as np\n",
    "x =  np.array([[1, -3, -10], [5, 11, 9], [-6, -9, -4], [3, 12, 4]])\n",
    "y = np.array([0, 0, 0, -1])\n",
    "q, r = np.linalg.qr(x)\n",
    "\n",
    "rinv = np.linalg.inv(r)\n",
    "qt = q.T\n",
    "y_chieu = np.dot(np.dot(rinv, qt), y)\n",
    "print(\"Co so truc chuan cua x \\n \", q[:,0], q[:,1], q[:,2])\n",
    "print(\" \\n Vector y khi duoc chieu xuong la: \", y_chieu)"
   ]
  },
  {
   "cell_type": "markdown",
   "metadata": {},
   "source": [
    "# Bài 2"
   ]
  },
  {
   "cell_type": "code",
   "execution_count": 43,
   "metadata": {},
   "outputs": [
    {
     "name": "stdout",
     "output_type": "stream",
     "text": [
      " \n",
      " Hinh chieu cua x tren U la:  [ 64.   0.   0. 128. 128.]\n",
      " \n",
      " Khoang cach x toi U la:  189.24058761270004\n"
     ]
    }
   ],
   "source": [
    "import numpy as np\n",
    "x =  np.array([[0, 1, -3, -1], [-1, -3, 4, -3], [0, -1, 2, 0], [2, 2, 1, 7], [2, 2, 1, 7]])\n",
    "y = np.array([-1, -9, -1, 4, 1])\n",
    "q, r = np.linalg.qr(x)\n",
    "\n",
    "rinv = np.linalg.inv(r)\n",
    "qt = q.T\n",
    "y_chieu = np.dot(np.dot(rinv, qt), y)\n",
    "y_chieu = x @ y_chieu\n",
    "print(\" \\n Hinh chieu cua x tren U la: \", y_chieu)\n",
    "print(\" \\n Khoang cach x toi U la: \", np.linalg.norm(y - y_chieu))\n"
   ]
  },
  {
   "cell_type": "markdown",
   "metadata": {},
   "source": [
    "# Bài 3"
   ]
  },
  {
   "cell_type": "code",
   "execution_count": 21,
   "metadata": {},
   "outputs": [
    {
     "name": "stdout",
     "output_type": "stream",
     "text": [
      " \n",
      " Phan tich QR cho ma tran A la: \n",
      "\n",
      "[[-0.30263639 -0.26015333  0.91689555  0.00583143]\n",
      " [ 0.21616885 -0.56181486 -0.09309916  0.7930748 ]\n",
      " [-0.4323377  -0.71515727 -0.3428851  -0.42902681]\n",
      " [-0.82144163  0.32439851 -0.18183756  0.43235906]]\n",
      "\n",
      "[[-23.13006701 -13.7483389   -7.56590977  -0.25940262]\n",
      " [  0.          -7.06987819  -1.694698     3.3333467 ]\n",
      " [  0.           0.          -7.34064085   1.94991161]\n",
      " [  0.           0.           0.           0.13912131]]\n",
      " \n",
      " Nghiem bình phương cực tiểu là:  [-5.718       6.80528144  4.23983234 16.25364072]\n"
     ]
    }
   ],
   "source": [
    "import numpy as np\n",
    "x =  np.array([[7, 6, -4, 1], [-5, 1, 0, -2], [10, 11, 7, -3], [19, 9, 7, 1]])\n",
    "y = np.array([0.1, 2.888, -1.404, -1.462])\n",
    "q, r = np.linalg.qr(x)\n",
    "print(\" \\n Phan tich QR cho ma tran A la: \", q, r, sep='\\n\\n')\n",
    "rinv = np.linalg.inv(r)\n",
    "qt = q.T\n",
    "y_chieu = np.dot(np.dot(rinv, qt), y)\n",
    "\n",
    "\n",
    "print(\" \\n Nghiem bình phương cực tiểu là: \", y_chieu)"
   ]
  },
  {
   "cell_type": "markdown",
   "metadata": {},
   "source": [
    "# Bài 4"
   ]
  },
  {
   "cell_type": "code",
   "execution_count": 34,
   "metadata": {},
   "outputs": [
    {
     "name": "stdout",
     "output_type": "stream",
     "text": [
      " \n",
      " Nghiem bình phương cực tiểu là:  [3.6875     0.71428571 0.02678571]\n"
     ]
    },
    {
     "data": {
      "text/plain": [
       "[<matplotlib.lines.Line2D at 0x2bdc1656250>]"
      ]
     },
     "execution_count": 34,
     "metadata": {},
     "output_type": "execute_result"
    },
    {
     "data": {
      "image/png": "[encoded data removed]",
      "text/plain": [
       "<Figure size 432x288 with 1 Axes>"
      ]
     },
     "metadata": {
      "needs_background": "light"
     },
     "output_type": "display_data"
    }
   ],
   "source": [
    "import numpy as np\n",
    "import matplotlib.pyplot as plt\n",
    "x =  np.array([[1, -5, 25], [1, -3, 9], [1, -1, 1], [1, 1, 1], [1, 3, 9], [1, 5, 25]])\n",
    "y = np.array([1, 1, 4, 4, 6, 8])\n",
    "\n",
    "q, r = np.linalg.qr(x)\n",
    "rinv = np.linalg.inv(r)\n",
    "qt = q.T\n",
    "y_chieu = np.dot(np.dot(rinv, qt), y)\n",
    "print(\" \\n Nghiem bình phương cực tiểu là: \", y_chieu)\n",
    "plt.scatter(x[:,1], y, label = \"Original data\")\n",
    "plt.plot(x[:,1], x @ y_chieu, 'r', label = 'Fitted line' )"
   ]
  }
 ],
 "metadata": {
  "kernelspec": {
   "display_name": "Python 3",
   "language": "python",
   "name": "python3"
  },
  "language_info": {
   "codemirror_mode": {
    "name": "ipython",
    "version": 3
   },
   "file_extension": ".py",
   "mimetype": "text/x-python",
   "name": "python",
   "nbconvert_exporter": "python",
   "pygments_lexer": "ipython3",
   "version": "3.8.3"
  }
 },
 "nbformat": 4,
 "nbformat_minor": 4
}
