{
 "cells": [
  {
   "cell_type": "markdown",
   "metadata": {},
   "source": [
    "# bai tap 1"
   ]
  },
  {
   "cell_type": "code",
   "execution_count": 28,
   "metadata": {},
   "outputs": [],
   "source": [
    "import numpy as np\n",
    "A = np.eye(3,3, -1)\n",
    "B = np.linalg.matrix_power(A,3)\n",
    "I = np.eye(3,3)\n",
    "K = np.matmul(I - A, I + A + np.linalg.matrix_power(A,2))"
   ]
  },
  {
   "cell_type": "markdown",
   "metadata": {},
   "source": [
    "# Bai tap 2"
   ]
  },
  {
   "cell_type": "code",
   "execution_count": 8,
   "metadata": {},
   "outputs": [
    {
     "name": "stdout",
     "output_type": "stream",
     "text": [
      "[[1. 0. 0.]\n",
      " [0. 1. 0.]\n",
      " [0. 0. 1.]]\n",
      "[[0.4 0.2 0.3]\n",
      " [0.3 0.6 0.3]\n",
      " [0.3 0.2 0.4]]\n",
      "[[0.31 0.26 0.3 ]\n",
      " [0.39 0.48 0.39]\n",
      " [0.3  0.26 0.31]]\n",
      "[[0.292 0.278 0.291]\n",
      " [0.417 0.444 0.417]\n",
      " [0.291 0.278 0.292]]\n",
      "[[0.2875 0.2834 0.2874]\n",
      " [0.4251 0.4332 0.4251]\n",
      " [0.2874 0.2834 0.2875]]\n",
      "[[0.28624 0.28502 0.28623]\n",
      " [0.42753 0.42996 0.42753]\n",
      " [0.28623 0.28502 0.28624]]\n",
      "[[0.285871 0.285506 0.28587 ]\n",
      " [0.428259 0.428988 0.428259]\n",
      " [0.28587  0.285506 0.285871]]\n",
      "[[0.2857612 0.2856518 0.2857611]\n",
      " [0.4284777 0.4286964 0.4284777]\n",
      " [0.2857611 0.2856518 0.2857612]]\n",
      "[[0.28572835 0.28569554 0.28572834]\n",
      " [0.42854331 0.42860892 0.42854331]\n",
      " [0.28572834 0.28569554 0.28572835]]\n",
      "[[0.2857185  0.28570866 0.2857185 ]\n",
      " [0.42856299 0.42858268 0.42856299]\n",
      " [0.2857185  0.28570866 0.2857185 ]]\n",
      "=============================================\n"
     ]
    }
   ],
   "source": [
    "a = np.array([[0.4,0.2,0.3],[0.3,0.6,0.3],[0.3,0.2,0.4]]) \n",
    "k = 10\n",
    "for i in range(k):\n",
    "    print(np.linalg.matrix_power(a,i))\n",
    "    \n",
    "print(\"=============================================\")\n",
    "a = np.array([[0,0.2,0.3],[0.1,0.6,0.3],[0.9,0.2,0.4]]) \n",
    "k = 10\n",
    "for i in range(k):\n",
    "    print(np.linalg.matrix_power(a,i))"
   ]
  },
  {
   "cell_type": "markdown",
   "metadata": {},
   "source": [
    "# bai tap 3"
   ]
  },
  {
   "cell_type": "code",
   "execution_count": 2,
   "metadata": {},
   "outputs": [
    {
     "name": "stdout",
     "output_type": "stream",
     "text": [
      "[[ 2.71828183  0.         -4.67077427]\n",
      " [ 5.43656366  2.71828183  0.76578939]\n",
      " [ 0.          0.          7.3890561 ]]\n"
     ]
    }
   ],
   "source": [
    "import numpy as np\n",
    "a = np.array([[1, 0, -1],[2,1,1],[0, 0, 2]]) \n",
    "k = 100\n",
    "def giaiThua(n):\n",
    "    if n == 0:\n",
    "        return 1\n",
    "    return n * giaiThua(n - 1)\n",
    "\n",
    "result = 0\n",
    "for i in range(k):\n",
    "    result = result + 1/giaiThua(i) * np.linalg.matrix_power(a,i)\n",
    "    #print(1/giaiThua(i) * np.linalg.matrix_power(a,i))\n",
    "    \n",
    "print(result)"
   ]
  },
  {
   "cell_type": "markdown",
   "metadata": {},
   "source": [
    "## bai tap 4"
   ]
  },
  {
   "cell_type": "code",
   "execution_count": 24,
   "metadata": {},
   "outputs": [
    {
     "name": "stdout",
     "output_type": "stream",
     "text": [
      "[[ 1  0 -1]\n",
      " [ 2  1  1]\n",
      " [ 0  0  2]]\n",
      "[[ 2 -4  0]\n",
      " [ 0  2  0]\n",
      " [ 1 -2  1]]\n"
     ]
    }
   ],
   "source": [
    "import numpy as np\n",
    "a = np.array([[1, 0, -1],[2,1,1],[0, 0, 2]]) \n",
    "b = a.copy()\n",
    "for i in range(len(a)):\n",
    "    for j in range(len(a[i])):\n",
    "        b_temp = np.delete(a, i, 0)\n",
    "        b_temp = np.delete(b_temp, j, 1)\n",
    "        b[i][j] = (-1)**(i+j)*np.linalg.det(b_temp)\n",
    "print(a)\n",
    "print(b)"
   ]
  },
  {
   "cell_type": "markdown",
   "metadata": {},
   "source": [
    "# bai tap 5"
   ]
  },
  {
   "cell_type": "code",
   "execution_count": 19,
   "metadata": {},
   "outputs": [
    {
     "data": {
      "text/plain": [
       "array([[ 1,  0, -1],\n",
       "       [ 2,  1,  1],\n",
       "       [ 0,  0,  2]])"
      ]
     },
     "execution_count": 19,
     "metadata": {},
     "output_type": "execute_result"
    }
   ],
   "source": [
    "import numpy as np\n",
    "def matrix_factor_1(R, P, Q, K, steps = 5000, alpha = 0.0002, lamda = 1):\n",
    "    Q = Q.T\n",
    "    for steps in range(steps):\n",
    "        for i in range(len(R)):\n",
    "            for j in range(len(R[i])):\n",
    "                if R[i][j] > 0:\n",
    "                    eij = R[i][j] - np.dot(P[i,:], Q[:,j])\n",
    "                    for k in range(K):\n",
    "                        P[i][k] = P[i][k] + alpha * (2 * eij * Q[k][j] - lamda * P[i][k])\n",
    "                        Q[k][j] = Q[k][j] + alpha * (2 * eij * P[i][k] - lamda * Q[k][j])\n",
    "        eR = np.dot(P, Q)\n",
    "        e = 0\n",
    "        for i in range(len(R)):\n",
    "            for j in range(len(R[i])):\n",
    "                if R[i][j] > 0:\n",
    "                    e = e + pow(R[i][j] - np.dot(P[i,:], Q[:,j]),2)\n",
    "        if e < 0.0001:\n",
    "            break\n",
    "    return P, Q.T\n",
    "                        \n",
    "        "
   ]
  }
 ],
 "metadata": {
  "kernelspec": {
   "display_name": "Python 3",
   "language": "python",
   "name": "python3"
  },
  "language_info": {
   "codemirror_mode": {
    "name": "ipython",
    "version": 3
   },
   "file_extension": ".py",
   "mimetype": "text/x-python",
   "name": "python",
   "nbconvert_exporter": "python",
   "pygments_lexer": "ipython3",
   "version": "3.8.3"
  }
 },
 "nbformat": 4,
 "nbformat_minor": 4
}
