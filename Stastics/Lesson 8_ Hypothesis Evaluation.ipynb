{
 "cells": [
  {
   "cell_type": "code",
   "execution_count": 5,
   "metadata": {},
   "outputs": [
    {
     "name": "stdout",
     "output_type": "stream",
     "text": [
      "236.77994999999999\n",
      "3.7293830920015814\n",
      "0.000125127041264661\n"
     ]
    }
   ],
   "source": [
    "import numpy as np\n",
    "import pandas as pd\n",
    "from scipy.stats import t\n",
    "df =pd.read_csv(\"data1_lecture7.csv\")\n",
    "x = df.values[:, 0]\n",
    "n =len(x)\n",
    "mu0 = 200\n",
    "xbar = np.mean(x)\n",
    "print(xbar)\n",
    "s = np.std(x)\n",
    "tvalue = (xbar - mu0)/ (s/ np.sqrt(s))\n",
    "pvalue = 1 - t.cdf(tvalue, n -1)\n",
    "print(tvalue)\n",
    "print(pvalue)"
   ]
  },
  {
   "cell_type": "code",
   "execution_count": 11,
   "metadata": {},
   "outputs": [
    {
     "data": {
      "text/plain": [
       "0.34856081961827634"
      ]
     },
     "execution_count": 11,
     "metadata": {},
     "output_type": "execute_result"
    }
   ],
   "source": [
    "import numpy as np\n",
    "A = np.array([6.8,5.0,7.9,5.2,7.6,5.0,5.9,5.2,6.5,7.4,6.1,6.2,7.1,4.6,6.0,7.1,6.1,5.0,6.3,7.0,6.4,6.1,6.6,7.7,6.4])\n",
    "B = np.array([5.2,6.7,5.7,6.6,8.5,6.5,5.9,6.7,6.6,4.2,4.2,4.5,5.3,7.9,7.0,5.9,7.1,5.8,7.0,5.7,5.9,4.9,5.3,4.2,7.1])\n",
    "\n",
    "Sa = np.std(A)\n",
    "Sb = np.std(B)\n",
    "S = ((len(A) - 1)*Sa**2 +  (len(B) -1)*Sb**2) / (len(A) + len(B) - 2)\n",
    "\n",
    "Tobs = (np.mean(A) - np.mean(B)) / np.sqrt(S * (1 / len(A) + 1 / len(B)))\n",
    "\n",
    "pvalue = 2*(1 - abs(t.cdf(Tobs, len(A) + len(B) -1)))\n",
    "pvalue"
   ]
  },
  {
   "cell_type": "markdown",
   "metadata": {},
   "source": [
    "Do pvalue = 0.348 > alpha nên thời gian lắp ráp của hai thiết kế không khác nhau ở mức ý nghĩa là 5%"
   ]
  },
  {
   "cell_type": "code",
   "execution_count": 3,
   "metadata": {},
   "outputs": [
    {
     "name": "stdout",
     "output_type": "stream",
     "text": [
      "98.15277777777777\n",
      "-11.477442036291427\n",
      "3.8740978072686955e-18\n"
     ]
    }
   ],
   "source": [
    "import numpy as np\n",
    "import pandas as pd\n",
    "from scipy.stats import t\n",
    "df =pd.read_csv(\"data3_lecture8.csv\")\n",
    "x = df.values[:, 0]\n",
    "n =len(x)\n",
    "mu0 = 1 /0.005\n",
    "xbar = np.mean(x)\n",
    "print(xbar)\n",
    "s = np.std(x)\n",
    "tvalue = (xbar - mu0)/ (s/ np.sqrt(s))\n",
    "pvalue = t.cdf(tvalue, n -1)\n",
    "print(tvalue)\n",
    "print(pvalue)"
   ]
  },
  {
   "cell_type": "markdown",
   "metadata": {},
   "source": [
    "Do pvalue < alpha nên ở mức ý nghĩa 5% không thể kết luận rằng mean (= 1  nhỏ"
   ]
  }
 ],
 "metadata": {
  "kernelspec": {
   "display_name": "Python 3",
   "language": "python",
   "name": "python3"
  },
  "language_info": {
   "codemirror_mode": {
    "name": "ipython",
    "version": 3
   },
   "file_extension": ".py",
   "mimetype": "text/x-python",
   "name": "python",
   "nbconvert_exporter": "python",
   "pygments_lexer": "ipython3",
   "version": "3.8.3"
  }
 },
 "nbformat": 4,
 "nbformat_minor": 4
}
