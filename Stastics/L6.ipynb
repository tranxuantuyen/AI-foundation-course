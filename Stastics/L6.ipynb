{
 "cells": [
  {
   "cell_type": "markdown",
   "metadata": {},
   "source": [
    "# Bai 1"
   ]
  },
  {
   "cell_type": "code",
   "execution_count": 15,
   "metadata": {},
   "outputs": [
    {
     "name": "stdout",
     "output_type": "stream",
     "text": [
      "0.26598552904870054\n",
      "0.006209665325776132\n",
      "2.0522634252189396e-10\n"
     ]
    }
   ],
   "source": [
    "import numpy as np\n",
    "from scipy.stats import norm\n",
    "mean = 800\n",
    "sd = 40\n",
    "sd_sample_1 = 40 / 4\n",
    "sd_sample_2 = 40 / 10\n",
    "print(norm.cdf((775 - 800) / 40))\n",
    "print(norm.cdf((775 - mean) / sd_sample_1))\n",
    "print(norm.cdf((775 - mean) / sd_sample_2))"
   ]
  },
  {
   "cell_type": "markdown",
   "metadata": {},
   "source": [
    "# Bai 2"
   ]
  },
  {
   "cell_type": "markdown",
   "metadata": {},
   "source": [
    "Giả sử này là hợp lí, do kích thước của mẫu 150 là đủ lớn"
   ]
  },
  {
   "cell_type": "code",
   "execution_count": 28,
   "metadata": {},
   "outputs": [
    {
     "name": "stdout",
     "output_type": "stream",
     "text": [
      "1.0\n",
      "0.0\n"
     ]
    }
   ],
   "source": [
    "from scipy import stats\n",
    "import math\n",
    "k = 150\n",
    "mean = 21.1\n",
    "sd = 2.6\n",
    "sd_sample_1 = sd / math.sqrt(k)\n",
    "X = stats.norm(mean, sd_sample_1)\n",
    "print(X.cdf(25.65) - X.cdf(17.85))\n",
    "print(1 - X.cdf(25.91))"
   ]
  },
  {
   "cell_type": "markdown",
   "metadata": {},
   "source": [
    "# Bai 3"
   ]
  },
  {
   "cell_type": "code",
   "execution_count": 43,
   "metadata": {},
   "outputs": [
    {
     "name": "stdout",
     "output_type": "stream",
     "text": [
      "0.9341659919885928\n"
     ]
    }
   ],
   "source": [
    "from scipy import stats\n",
    "import math\n",
    "k1 = 10\n",
    "k2 = 14\n",
    "mean1 = 32\n",
    "mean2 = 22\n",
    "sd1 = 60\n",
    "sd2 = 70\n",
    "mean = mean1 - mean2\n",
    "sd = math.sqrt(sd1 / k1 + sd2 / k2)\n",
    "# X = stats.norm(0, 1)\n",
    "print(1 - stats.norm.cdf((5-mean)/sd))"
   ]
  },
  {
   "cell_type": "markdown",
   "metadata": {},
   "source": [
    "# Bai 4"
   ]
  },
  {
   "cell_type": "code",
   "execution_count": 2,
   "metadata": {},
   "outputs": [
    {
     "name": "stdout",
     "output_type": "stream",
     "text": [
      "0.9674286662675273\n"
     ]
    }
   ],
   "source": [
    "from scipy import stats\n",
    "import math\n",
    "k = 1500\n",
    "mean = 0.02\n",
    "sd_sample = math.sqrt(mean*(1 - mean) /k) \n",
    "X = stats.norm(mean, sd_sample)\n",
    "print(X.cdf(40 / 1500))"
   ]
  }
 ],
 "metadata": {
  "kernelspec": {
   "display_name": "Python 3",
   "language": "python",
   "name": "python3"
  },
  "language_info": {
   "codemirror_mode": {
    "name": "ipython",
    "version": 3
   },
   "file_extension": ".py",
   "mimetype": "text/x-python",
   "name": "python",
   "nbconvert_exporter": "python",
   "pygments_lexer": "ipython3",
   "version": "3.8.3"
  }
 },
 "nbformat": 4,
 "nbformat_minor": 4
}
