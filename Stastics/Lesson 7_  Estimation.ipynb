{
 "cells": [
  {
   "cell_type": "code",
   "execution_count": 5,
   "metadata": {},
   "outputs": [
    {
     "name": "stdout",
     "output_type": "stream",
     "text": [
      "0.003539259233042525\n",
      "-0.0005058055195685227\n",
      "0.0006673660232772588\n",
      "0.0028718932097652663 0.004045064752611047\n"
     ]
    }
   ],
   "source": [
    "import numpy as np\n",
    "import pandas as pd\n",
    "from scipy.stats import t\n",
    "from sklearn.utils import resample\n",
    "df =pd.read_csv(\"data1_lecture7.csv\")\n",
    "x = df.values[:, 0]\n",
    "xnew = x[0:10]\n",
    "stats = 1 / np.mean(xnew)\n",
    "print(stats)\n",
    "n_interation = 500\n",
    "n_size = len(xnew)\n",
    "\n",
    "# run bootstrap\n",
    "sigma = []\n",
    "for i in range (n_interation):\n",
    "    Xb = resample(xnew, n_samples = n_size)\n",
    "    sigma.append(1 / np.mean(Xb) - stats)\n",
    "    \n",
    "#confidence interval\n",
    "alpha = 1 - 0.9\n",
    "Z1 = np.percentile(sigma, 100 * alpha/2)\n",
    "print(Z1)\n",
    "\n",
    "Z2 = np.percentile(sigma, 100 * (1 - alpha/2))\n",
    "print(Z2)\n",
    "\n",
    "L = stats - Z2\n",
    "U = stats - Z1\n",
    "print(L, U)"
   ]
  },
  {
   "cell_type": "code",
   "execution_count": 2,
   "metadata": {},
   "outputs": [
    {
     "data": {
      "text/plain": [
       "array([196.65, 468.75, 320.5 , 300.5 , 213.05, 140.6 , 290.  , 216.95,\n",
       "       360.5 , 317.95, 195.55, 220.5 , 255.6 , 289.  , 194.55, 374.25,\n",
       "       382.05, 185.55, 219.1 , 215.6 , 220.  , 186.75,  97.8 , 340.5 ,\n",
       "        88.5 , 209.5 , 234.04, 333.  , 291.1 , 108.5 , 245.  , 184.  ,\n",
       "       153.5 , 219.5 , 214.15, 155.2 , 140.4 , 108.5 , 410.  , 125.5 ,\n",
       "       220.3 , 160.  , 300.5 , 310.2 , 244.4 , 194.5 , 210.2 , 360.  ,\n",
       "       456.5 , 237.4 , 235.  , 203.25, 109.2 , 240.15, 260.5 , 275.5 ,\n",
       "       101.55, 455.5 , 246.25, 291.55, 262.  , 378.65, 194.5 , 248.  ,\n",
       "       262.92,  85.75, 248.  , 204.75, 310.7 , 213.1 , 320.5 , 125.6 ,\n",
       "       110.25,  77.35, 119.5 , 313.5 , 222.  , 388.1 , 110.5 , 160.  ,\n",
       "       210.  , 310.3 , 380.1 , 281.  , 105.35, 280.15, 188.8 , 272.5 ,\n",
       "       103.4 , 213.5 , 280.5 , 119.5 , 166.1 , 180.5 , 212.  , 154.75,\n",
       "       100.5 , 452.6 , 436.35, 225.  , 124.3 , 170.  , 127.35, 107.9 ,\n",
       "       140.  , 195.  , 315.1 , 241.05, 168.  , 120.5 , 223.95, 237.05,\n",
       "       285.45, 100.5 , 228.55, 248.7 , 175.8 , 466.05, 219.  , 216.  ,\n",
       "       425.5 , 390.  , 176.85, 240.5 , 226.  , 108.7 , 160.  , 470.5 ,\n",
       "       225.  , 440.  , 265.  , 162.8 , 260.5 , 175.8 ,  73.05, 460.5 ,\n",
       "       263.6 ,  59.5 , 198.  , 416.5 , 315.5 , 155.  , 190.  , 158.5 ,\n",
       "       225.  , 266.7 , 153.6 , 238.  , 297.6 , 201.75, 240.5 , 270.9 ,\n",
       "       196.65, 299.2 ,  70.5 , 125.6 , 100.4 , 240.  , 240.  , 224.05,\n",
       "       194.  , 247.  , 325.4 , 102.2 , 166.1 , 361.  , 430.  , 240.  ,\n",
       "       250.5 , 470.  , 157.75,  98.4 , 236.5 , 230.85, 317.65, 200.7 ,\n",
       "       165.  , 350.5 , 319.15, 275.88, 203.05, 234.5 , 220.75, 180.5 ,\n",
       "       436.5 , 403.  , 460.5 , 220.  , 103.5 , 222.15, 170.5 , 224.15,\n",
       "       460.  , 260.4 , 200.5 , 311.4 , 260.  , 251.55, 100.6 , 212.2 ])"
      ]
     },
     "execution_count": 2,
     "metadata": {},
     "output_type": "execute_result"
    }
   ],
   "source": []
  }
 ],
 "metadata": {
  "kernelspec": {
   "display_name": "Python 3",
   "language": "python",
   "name": "python3"
  },
  "language_info": {
   "codemirror_mode": {
    "name": "ipython",
    "version": 3
   },
   "file_extension": ".py",
   "mimetype": "text/x-python",
   "name": "python",
   "nbconvert_exporter": "python",
   "pygments_lexer": "ipython3",
   "version": "3.8.3"
  }
 },
 "nbformat": 4,
 "nbformat_minor": 4
}
