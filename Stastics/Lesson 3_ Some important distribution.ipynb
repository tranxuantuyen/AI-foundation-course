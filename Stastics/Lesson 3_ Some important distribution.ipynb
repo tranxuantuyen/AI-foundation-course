{
 "cells": [
  {
   "cell_type": "markdown",
   "metadata": {},
   "source": [
    "# Bài tập 1"
   ]
  },
  {
   "cell_type": "code",
   "execution_count": 21,
   "metadata": {},
   "outputs": [],
   "source": [
    "!cd Documents/\n",
    "\n"
   ]
  },
  {
   "cell_type": "code",
   "execution_count": 22,
   "metadata": {},
   "outputs": [
    {
     "name": "stdout",
     "output_type": "stream",
     "text": [
      " Volume in drive C is OS\n",
      " Volume Serial Number is 42EC-6AAB\n",
      "\n",
      " Directory of C:\\Users\\tuyentx2\n",
      "\n",
      "10/31/2020  09:11 AM    <DIR>          .\n",
      "10/31/2020  09:11 AM    <DIR>          ..\n",
      "10/29/2020  12:06 PM    <DIR>          .conda\n",
      "10/29/2020  12:13 PM                18 .condarc\n",
      "10/29/2020  10:15 AM    <DIR>          .ipynb_checkpoints\n",
      "10/15/2020  09:47 AM    <DIR>          .ipython\n",
      "10/15/2020  04:26 PM    <DIR>          .jupyter\n",
      "10/29/2020  11:35 AM    <DIR>          .keras\n",
      "10/31/2020  01:16 PM    <DIR>          .matplotlib\n",
      "10/29/2020  12:03 PM               307 .python_history\n",
      "10/31/2020  04:13 PM    <DIR>          .spyder-py3\n",
      "10/05/2020  03:36 PM    <DIR>          3D Objects\n",
      "10/15/2020  09:43 AM    <DIR>          Anaconda3\n",
      "10/28/2020  02:14 PM             3,084 B…i 6_ Tr?n Xuƒn Tuy?n.ipynb\n",
      "10/19/2020  02:43 PM             5,869 Bai tap buoi 2_ Xuan Tuyen.ipynb\n",
      "10/22/2020  09:16 PM            32,467 B…i t?p vecto ng?u nhiˆn_ Tuy?n.ipynb\n",
      "10/16/2020  05:45 PM            60,600 B…i th?c h…nh bu?i 2_Xuƒn Tuy?n.ipynb\n",
      "10/21/2020  02:47 PM            25,235 Bai_thuc_hanh_buoi_3 Tr?n Xuƒn Tuy?n.ipynb\n",
      "10/21/2020  03:13 PM            31,290 Bai3_H? phuong tr�nh tuy?n t¡nh_ Tr?n Xuƒn Tuy?n.ipynb\n",
      "10/28/2020  09:27 AM            11,062 BML_3.ipynb\n",
      "10/16/2020  04:45 PM             1,092 BT3.ipynb\n",
      "10/05/2020  03:36 PM    <DIR>          Contacts\n",
      "10/31/2020  02:17 PM    <DIR>          Desktop\n",
      "10/31/2020  02:51 PM    <DIR>          Documents\n",
      "10/31/2020  04:07 PM    <DIR>          Downloads\n",
      "10/31/2020  09:12 AM    <DIR>          Dropbox\n",
      "10/28/2020  04:40 PM           169,646 eigen_value eigen_vector_Tuyen.ipynb\n",
      "10/05/2020  03:36 PM    <DIR>          Favorites\n",
      "10/15/2020  11:33 AM             2,940 heart_rate.txt\n",
      "10/26/2020  02:57 PM            15,106 Khong gian EUCLID.ipynb\n",
      "10/23/2020  03:57 PM            50,760 Kh“ng gian vector.ipynb\n",
      "10/15/2020  10:09 PM             6,028 Lesson1_Xuan_Tuyen.ipynb\n",
      "10/05/2020  03:36 PM    <DIR>          Links\n",
      "10/29/2020  10:34 AM             1,900 Ma tr?n suy r“ng.ipynb\n",
      "10/05/2020  03:36 PM    <DIR>          Music\n",
      "10/22/2020  09:03 AM    <DIR>          OneDrive\n",
      "10/05/2020  03:36 PM    <DIR>          Pictures\n",
      "10/20/2020  03:58 PM               454 salary_data.csv\n",
      "10/23/2020  03:33 PM             2,061 sample.csv\n",
      "10/05/2020  03:36 PM    <DIR>          Saved Games\n",
      "10/15/2020  10:51 AM               164 saved_data.npy\n",
      "10/05/2020  03:36 PM    <DIR>          Searches\n",
      "10/16/2020  01:41 PM             1,019 Untitled2.ipynb\n",
      "10/30/2020  05:11 PM    <DIR>          Videos\n",
      "10/21/2020  02:45 PM            44,494 XSTK-3.ipynb\n",
      "              21 File(s)        465,596 bytes\n",
      "              24 Dir(s)  194,457,812,992 bytes free\n"
     ]
    }
   ],
   "source": [
    "ls"
   ]
  },
  {
   "cell_type": "code",
   "execution_count": 2,
   "metadata": {},
   "outputs": [
    {
     "name": "stdout",
     "output_type": "stream",
     "text": [
      "Xac suat de bien ngau nhien nhan gia tri 35 la:  4.310664173634152e-06\n",
      "Xac suat de bien ngau nhien co gia tri nho hon hoac bang 15 la:  0.5680895756085438\n",
      "Gia tri ki vong la:  15.0\n",
      "Phuong sai la:  15.0\n",
      "Do lech chuan la:  3.872983346207417\n",
      "Trung vi:  15.0\n"
     ]
    }
   ],
   "source": [
    "from scipy import stats\n",
    "import matplotlib.pyplot as plt \n",
    "lamda = 15\n",
    "\n",
    "#tao 5000 bien ngau nhien theo phan bo posion\n",
    "X =stats.poisson.rvs(lamda, size = 5000, random_state = 123)\n",
    "\n",
    "\n",
    "X =stats.poisson(lamda)\n",
    "\n",
    "#Xac suat de bien ngau nhien nhan gia tri 35  la\n",
    "print(\"Xac suat de bien ngau nhien nhan gia tri 35 la: \", X.pmf(35))\n",
    "\n",
    "#Xac suat de bien ngau nhien co gia tri nho hon hoac bang 15\n",
    "print(\"Xac suat de bien ngau nhien co gia tri nho hon hoac bang 15 la: \", X.cdf(15))\n",
    "\n",
    "#Ki vong, phuong sai, do lech chuan, trung vi\n",
    "print(\"Gia tri ki vong la: \", X.mean())\n",
    "print(\"Phuong sai la: \", X.var())\n",
    "print(\"Do lech chuan la: \", X.std())\n",
    "print(\"Trung vi: \", X.median())\n"
   ]
  },
  {
   "cell_type": "markdown",
   "metadata": {},
   "source": [
    "# Bài tập 2"
   ]
  },
  {
   "cell_type": "code",
   "execution_count": 3,
   "metadata": {},
   "outputs": [
    {
     "name": "stdout",
     "output_type": "stream",
     "text": [
      "Gia tri ki vong la:  0.0\n",
      "Phuong sai la:  1.1538461538461537\n",
      "Do lech chuan la:  1.0741723110591492\n",
      "Phan vi muc 0.9:  1.3406056078504547\n",
      "Phan vi muc 0.9:  1.7530503556925547\n",
      "Phan vi muc 0.9:  2.602480294995493\n"
     ]
    },
    {
     "data": {
      "text/plain": [
       "Text(0.5, 1.0, 'CDF')"
      ]
     },
     "execution_count": 3,
     "metadata": {},
     "output_type": "execute_result"
    },
    {
     "data": {
      "image/png": "[encoded data removed]",
      "text/plain": [
       "<Figure size 432x288 with 2 Axes>"
      ]
     },
     "metadata": {
      "needs_background": "light"
     },
     "output_type": "display_data"
    }
   ],
   "source": [
    "from scipy import stats\n",
    "import matplotlib.pyplot as plt \n",
    "import numpy as np\n",
    "bac_tu_do = 15\n",
    "\n",
    "#tao 5000 bien ngau nhien theo phan bo posion\n",
    "X =stats.t.rvs(bac_tu_do, size = 5000, random_state = 123)\n",
    "\n",
    "\n",
    "X =stats.t(bac_tu_do)\n",
    "#Ki vong, phuong sai, do lech chuan, trung vi\n",
    "print(\"Gia tri ki vong la: \", X.mean())\n",
    "print(\"Phuong sai la: \", X.var())\n",
    "print(\"Do lech chuan la: \", X.std())\n",
    "\n",
    "\n",
    "#Tìm phân vị các mức\n",
    "print(\"Phan vi muc 0.9: \", X.ppf(0.9))\n",
    "print(\"Phan vi muc 0.95: \", X.ppf(0.95))\n",
    "print(\"Phan vi muc 0.99: \", X.ppf(0.99))\n",
    "\n",
    "#Hàm mật độ và hàm phân phối\n",
    "chuan = np.arange(-4, 4, 0.01)\n",
    "cdf = X.cdf(chuan)\n",
    "pdf = X.pdf(chuan)\n",
    "\n",
    "\n",
    "fig, (ax1, ax2) = plt.subplots(1, 2)\n",
    "fig.suptitle('PDF va CDF cua bien ngau nhien student')\n",
    "ax1.plot(chuan, pdf)\n",
    "ax1.set_title('PDF')\n",
    "\n",
    "ax2.plot(chuan, cdf)\n",
    "ax2.set_title('CDF')\n",
    "\n"
   ]
  }
 ],
 "metadata": {
  "kernelspec": {
   "display_name": "Python 3",
   "language": "python",
   "name": "python3"
  },
  "language_info": {
   "codemirror_mode": {
    "name": "ipython",
    "version": 3
   },
   "file_extension": ".py",
   "mimetype": "text/x-python",
   "name": "python",
   "nbconvert_exporter": "python",
   "pygments_lexer": "ipython3",
   "version": "3.8.3"
  }
 },
 "nbformat": 4,
 "nbformat_minor": 4
}
