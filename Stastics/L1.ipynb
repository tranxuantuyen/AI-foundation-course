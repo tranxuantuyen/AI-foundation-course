{
 "cells": [
  {
   "cell_type": "markdown",
   "metadata": {},
   "source": [
    "# Bài thực hành số 1"
   ]
  },
  {
   "cell_type": "code",
   "execution_count": 14,
   "metadata": {},
   "outputs": [
    {
     "name": "stdout",
     "output_type": "stream",
     "text": [
      "Xac suat de so cham xuat hien la 4 la:  0.1694\n",
      "Xac suat de so cham xuat hien lon hon 4 la:  0.49539999999999995\n",
      "Xac suat de so cham xuat hien la 6 voi dieu kien lon hon 4 la:  0.32014533710133225\n"
     ]
    }
   ],
   "source": [
    "import numpy as np\n",
    "so_lan_do = 5000\n",
    "do_xuc_sac = np.random.randint(6, size = so_lan_do)\n",
    "mat1 = (do_xuc_sac == 0).sum()\n",
    "mat2 = (do_xuc_sac == 1).sum()\n",
    "mat3 = (do_xuc_sac == 2).sum()\n",
    "mat4 = (do_xuc_sac == 3).sum()\n",
    "mat5 = (do_xuc_sac == 4).sum()\n",
    "mat6 = (do_xuc_sac == 5).sum()\n",
    "P4 = mat4/so_lan_do\n",
    "P5 = mat5/so_lan_do\n",
    "P6 = mat6/so_lan_do\n",
    "P_lon_hon_4 = P4 + P5 + P6\n",
    "# Goi Pa la xac suat xuc sac bang 6\n",
    "# Pb la xac suat duoc lon hon 4\n",
    "# Do do xac suat P_b_given_a = 1\n",
    "# Ap dung cong thuc bayes, ta tinh dc P_a_given_b\n",
    "Pa = P6\n",
    "Pb = P_lon_hon_4\n",
    "P_b_given_a = 1\n",
    "P_a_given_b = P_b_given_a*Pa/Pb\n",
    "\n",
    "print(\"Xac suat de so cham xuat hien la 4 la: \",P4)\n",
    "print(\"Xac suat de so cham xuat hien lon hon 4 la: \",P_lon_hon_4)\n",
    "print(\"Xac suat de so cham xuat hien la 6 voi dieu kien lon hon 4 la: \",P_a_given_b)"
   ]
  },
  {
   "cell_type": "markdown",
   "metadata": {},
   "source": [
    "# Bài thực hành số 2"
   ]
  },
  {
   "cell_type": "code",
   "execution_count": 19,
   "metadata": {},
   "outputs": [
    {
     "name": "stdout",
     "output_type": "stream",
     "text": [
      "              precision    recall  f1-score   support\n",
      "\n",
      "      type 0       1.00      1.00      1.00        16\n",
      "      type 1       1.00      0.93      0.96        14\n",
      "      type 2       0.94      1.00      0.97        15\n",
      "\n",
      "    accuracy                           0.98        45\n",
      "   macro avg       0.98      0.98      0.98        45\n",
      "weighted avg       0.98      0.98      0.98        45\n",
      "\n"
     ]
    }
   ],
   "source": [
    "from sklearn import datasets\n",
    "iris = datasets.load_iris()\n",
    "x = iris.data\n",
    "y = iris.target\n",
    "from sklearn.model_selection import train_test_split\n",
    "x_train, x_test, y_train, y_test = train_test_split(x, y, test_size = 0.3)\n",
    "from sklearn import tree\n",
    "classifier = tree.DecisionTreeClassifier()\n",
    "classifier.fit(x_train, y_train)\n",
    "y_pred = classifier.predict(x_test)\n",
    "from sklearn.metrics import classification_report\n",
    "target_names = ['type 0', 'type 1', 'type 2']\n",
    "print(classification_report(y_test, y_pred, target_names=target_names))\n"
   ]
  }
 ],
 "metadata": {
  "kernelspec": {
   "display_name": "Python 3",
   "language": "python",
   "name": "python3"
  },
  "language_info": {
   "codemirror_mode": {
    "name": "ipython",
    "version": 3
   },
   "file_extension": ".py",
   "mimetype": "text/x-python",
   "name": "python",
   "nbconvert_exporter": "python",
   "pygments_lexer": "ipython3",
   "version": "3.8.3"
  }
 },
 "nbformat": 4,
 "nbformat_minor": 4
}
