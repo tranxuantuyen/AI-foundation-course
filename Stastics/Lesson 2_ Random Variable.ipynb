{
 "cells": [
  {
   "cell_type": "markdown",
   "metadata": {},
   "source": [
    "# Bài 1"
   ]
  },
  {
   "cell_type": "markdown",
   "metadata": {},
   "source": [
    "## Đồ thị PMF"
   ]
  },
  {
   "cell_type": "code",
   "execution_count": 2,
   "metadata": {},
   "outputs": [
    {
     "data": {
      "text/plain": [
       "[Text(0, 0.5, 'P_X(x)'), Text(0.5, 0, 'Bien ngau nhien')]"
      ]
     },
     "execution_count": 2,
     "metadata": {},
     "output_type": "execute_result"
    },
    {
     "data": {
      "image/png": "[encoded data removed]",
      "text/plain": [
       "<Figure size 432x288 with 1 Axes>"
      ]
     },
     "metadata": {
      "needs_background": "light"
     },
     "output_type": "display_data"
    }
   ],
   "source": [
    "import numpy as np\n",
    "pmf = [0.4, 0.3, 0.2, 0.1]\n",
    "bien_ngau_nhien = [10, 20, 100, 1000]\n",
    "import seaborn as sns\n",
    "import matplotlib\n",
    "PMF = sns.barplot(bien_ngau_nhien, pmf)\n",
    "PMF.set(xlabel = 'Bien ngau nhien', ylabel = 'P_X(x)')\n"
   ]
  },
  {
   "cell_type": "markdown",
   "metadata": {},
   "source": [
    "## Đồ thị CDF"
   ]
  },
  {
   "cell_type": "code",
   "execution_count": 3,
   "metadata": {},
   "outputs": [
    {
     "data": {
      "text/plain": [
       "[Text(0, 0.5, 'F_X(x)'), Text(0.5, 0, 'Bien ngau nhien')]"
      ]
     },
     "execution_count": 3,
     "metadata": {},
     "output_type": "execute_result"
    },
    {
     "data": {
      "image/png": "[encoded data removed]",
      "text/plain": [
       "<Figure size 432x288 with 1 Axes>"
      ]
     },
     "metadata": {
      "needs_background": "light"
     },
     "output_type": "display_data"
    }
   ],
   "source": [
    "cdf = np.cumsum(pmf)\n",
    "CDF = sns.barplot(bien_ngau_nhien,cdf)\n",
    "CDF.set(xlabel = 'Bien ngau nhien', ylabel = 'F_X(x)')"
   ]
  },
  {
   "cell_type": "markdown",
   "metadata": {},
   "source": [
    "Xác suất để biến ngẫu nhiên nhỏ hơn một giá trị m bất kì"
   ]
  },
  {
   "cell_type": "code",
   "execution_count": 5,
   "metadata": {},
   "outputs": [
    {
     "data": {
      "text/plain": [
       "0.7"
      ]
     },
     "execution_count": 5,
     "metadata": {},
     "output_type": "execute_result"
    }
   ],
   "source": [
    "m = 50\n",
    "threshold = max(list(filter(lambda x: x < m, bien_ngau_nhien)))\n",
    "index = bien_ngau_nhien.index(threshold)\n",
    "cdf[index]"
   ]
  },
  {
   "cell_type": "markdown",
   "metadata": {},
   "source": [
    "Giá trị trung bình, phương sai, độ lệch chuẩn, trung vị, skewness"
   ]
  },
  {
   "cell_type": "code",
   "execution_count": 6,
   "metadata": {},
   "outputs": [
    {
     "name": "stdout",
     "output_type": "stream",
     "text": [
      "Ki vong:  282.5\n",
      "Phuong sai:  172818.75\n",
      "Do lech tieu chuan:  415.7147459496716\n",
      "Gia tri nho nhat:  10\n",
      "Gia tri lon nhat:  1000\n",
      "Trung vi:  60.0\n",
      "Skewness:  1.130837400820944\n"
     ]
    }
   ],
   "source": [
    "bien_ngau_nhien = np.array(bien_ngau_nhien)\n",
    "print(\"Ki vong: \", bien_ngau_nhien.mean())\n",
    "print(\"Phuong sai: \", np.var(bien_ngau_nhien))\n",
    "print(\"Do lech tieu chuan: \", np.std(bien_ngau_nhien))\n",
    "print(\"Gia tri nho nhat: \", np.min(bien_ngau_nhien))\n",
    "print(\"Gia tri lon nhat: \", np.max(bien_ngau_nhien))\n",
    "print(\"Trung vi: \", np.median(bien_ngau_nhien))\n",
    "from scipy.stats import skew\n",
    "\n",
    "print(\"Skewness: \", skew(bien_ngau_nhien))"
   ]
  },
  {
   "cell_type": "markdown",
   "metadata": {},
   "source": [
    "# Bài 2"
   ]
  },
  {
   "cell_type": "code",
   "execution_count": 9,
   "metadata": {},
   "outputs": [],
   "source": [
    "from sklearn import datasets\n",
    "iris = datasets.load_iris()\n",
    "x = iris.data\n",
    "y = iris.target\n",
    "from sklearn.model_selection import train_test_split\n",
    "x_train, x_test, y_train, y_test = train_test_split(x, y, test_size = 0.3)"
   ]
  },
  {
   "cell_type": "code",
   "execution_count": 22,
   "metadata": {},
   "outputs": [
    {
     "data": {
      "text/plain": [
       "[Text(0, 0.5, 'P_X(y)'), Text(0.5, 0, 'pmf y')]"
      ]
     },
     "execution_count": 22,
     "metadata": {},
     "output_type": "execute_result"
    },
    {
     "data": {
      "image/png": "[encoded data removed]",
      "text/plain": [
       "<Figure size 432x288 with 1 Axes>"
      ]
     },
     "metadata": {
      "needs_background": "light"
     },
     "output_type": "display_data"
    }
   ],
   "source": [
    "y_type, frequency_y = np.unique(y, return_counts=True)\n",
    "pmf_y = frequency_y / len(y)\n",
    "PMF = sns.barplot(y_type, pmf_y)\n",
    "PMF.set(xlabel = 'pmf y', ylabel = 'P_X(y)')"
   ]
  },
  {
   "cell_type": "code",
   "execution_count": 23,
   "metadata": {},
   "outputs": [
    {
     "data": {
      "text/plain": [
       "[Text(0, 0.5, 'F_X(y)'), Text(0.5, 0, 'cdf y')]"
      ]
     },
     "execution_count": 23,
     "metadata": {},
     "output_type": "execute_result"
    },
    {
     "data": {
      "image/png": "[encoded data removed]",
      "text/plain": [
       "<Figure size 432x288 with 1 Axes>"
      ]
     },
     "metadata": {
      "needs_background": "light"
     },
     "output_type": "display_data"
    }
   ],
   "source": [
    "cdf_y = np.cumsum(pmf_y)\n",
    "CDF = sns.barplot(y_type,cdf_y)\n",
    "CDF.set(xlabel = 'cdf y', ylabel = 'F_X(y)')"
   ]
  },
  {
   "cell_type": "code",
   "execution_count": 20,
   "metadata": {},
   "outputs": [
    {
     "data": {
      "text/plain": [
       "[Text(0, 0.5, 'P_X(y_train)'), Text(0.5, 0, 'Pmf y_train')]"
      ]
     },
     "execution_count": 20,
     "metadata": {},
     "output_type": "execute_result"
    },
    {
     "data": {
      "image/png": "[encoded data removed]",
      "text/plain": [
       "<Figure size 432x288 with 1 Axes>"
      ]
     },
     "metadata": {
      "needs_background": "light"
     },
     "output_type": "display_data"
    }
   ],
   "source": [
    "y_train_type, frequency_y_train = np.unique(y_train, return_counts=True)\n",
    "pmf_y_train = frequency_y_train / len(y_train)\n",
    "PMF = sns.barplot(y_train_type, pmf_y_train)\n",
    "PMF.set(xlabel = 'Pmf y_train', ylabel = 'P_X(y_train)')"
   ]
  },
  {
   "cell_type": "code",
   "execution_count": 21,
   "metadata": {},
   "outputs": [
    {
     "data": {
      "text/plain": [
       "[Text(0, 0.5, 'F_X(y)'), Text(0.5, 0, 'CDF y_train')]"
      ]
     },
     "execution_count": 21,
     "metadata": {},
     "output_type": "execute_result"
    },
    {
     "data": {
      "image/png": "[encoded data removed]",
      "text/plain": [
       "<Figure size 432x288 with 1 Axes>"
      ]
     },
     "metadata": {
      "needs_background": "light"
     },
     "output_type": "display_data"
    }
   ],
   "source": [
    "cdf_y_train = np.cumsum(pmf_y_train)\n",
    "CDF = sns.barplot(y_type,cdf_y)\n",
    "CDF.set(xlabel = 'CDF y_train', ylabel = 'F_X(y)')"
   ]
  },
  {
   "cell_type": "code",
   "execution_count": 19,
   "metadata": {},
   "outputs": [
    {
     "data": {
      "text/plain": [
       "[Text(0, 0.5, 'P_X(y_test)'), Text(0.5, 0, 'Pmf y_test')]"
      ]
     },
     "execution_count": 19,
     "metadata": {},
     "output_type": "execute_result"
    },
    {
     "data": {
      "image/png": "[encoded data removed]",
      "text/plain": [
       "<Figure size 432x288 with 1 Axes>"
      ]
     },
     "metadata": {
      "needs_background": "light"
     },
     "output_type": "display_data"
    }
   ],
   "source": [
    "y_test_type, frequency_y_test = np.unique(y_test, return_counts=True)\n",
    "pmf_y_test = frequency_y_test / len(y_test)\n",
    "PMF = sns.barplot(y_train_type, pmf_y_test)\n",
    "PMF.set(xlabel = 'Pmf y_test', ylabel = 'P_X(y_test)')"
   ]
  },
  {
   "cell_type": "code",
   "execution_count": 18,
   "metadata": {},
   "outputs": [
    {
     "data": {
      "text/plain": [
       "[Text(0, 0.5, 'F_X(y)'), Text(0.5, 0, 'CDF y_test')]"
      ]
     },
     "execution_count": 18,
     "metadata": {},
     "output_type": "execute_result"
    },
    {
     "data": {
      "image/png": "[encoded data removed]",
      "text/plain": [
       "<Figure size 432x288 with 1 Axes>"
      ]
     },
     "metadata": {
      "needs_background": "light"
     },
     "output_type": "display_data"
    }
   ],
   "source": [
    "cdf_y_test = np.cumsum(pmf_y_test)\n",
    "CDF = sns.barplot(y_type,cdf_y)\n",
    "CDF.set(xlabel = 'CDF y_test', ylabel = 'F_X(y)')"
   ]
  }
 ],
 "metadata": {
  "kernelspec": {
   "display_name": "Python 3",
   "language": "python",
   "name": "python3"
  },
  "language_info": {
   "codemirror_mode": {
    "name": "ipython",
    "version": 3
   },
   "file_extension": ".py",
   "mimetype": "text/x-python",
   "name": "python",
   "nbconvert_exporter": "python",
   "pygments_lexer": "ipython3",
   "version": "3.8.3"
  }
 },
 "nbformat": 4,
 "nbformat_minor": 4
}
